{
  "cells": [
    {
      "cell_type": "code",
      "execution_count": 1,
      "metadata": {
        "gather": {
          "logged": 1702357672314
        }
      },
      "outputs": [],
      "source": [
        "import os\n",
        "import pandas as pd\n",
        "import numpy as np\n",
        "\n",
        "from sklearn.metrics import classification_report\n",
        "from sklearn.model_selection import train_test_split\n",
        "# import argparse\n",
        "\n",
        "import pandas as pd\n",
        "import json\n",
        "from sklearn.model_selection import train_test_split, GridSearchCV\n",
        "from sklearn.feature_extraction.text import CountVectorizer\n",
        "from sklearn.feature_extraction.text import TfidfTransformer\n",
        "from sklearn.feature_extraction.text import TfidfVectorizer\n",
        "from sklearn.model_selection import train_test_split, GridSearchCV\n",
        "from sklearn.svm import SVC\n",
        "from sklearn.metrics import accuracy_score\n",
        "from liblinear.liblinearutil import train, problem,parameter,save_model, load_model\n",
        "from liblinear.liblinearutil import predict as pred\n",
        "from scipy.sparse import hstack\n"
      ]
    },
    {
      "cell_type": "code",
      "execution_count": 3,
      "metadata": {
        "gather": {
          "logged": 1702357720464
        },
        "jupyter": {
          "outputs_hidden": false,
          "source_hidden": false
        },
        "nteract": {
          "transient": {
            "deleting": false
          }
        }
      },
      "outputs": [
        {
          "name": "stdout",
          "output_type": "stream",
          "text": [
            "773034\n"
          ]
        }
      ],
      "source": [
        "df = pd.read_csv('../corpus/dataset.csv')\n",
        "df['sentence']=df['sentence'].values.astype('U')\n",
        "print(len(df))\n",
        "\n",
        "X = df['sentence']\n",
        "y = df['class']\n",
        "X_train, X_test, y_train, y_test = train_test_split(X, y, test_size=1000, stratify=y, random_state=42)\n",
        "df_test = pd.concat([X_test, y_test], axis=1)\n",
        "df_2 = pd.concat([X_train, y_train], axis=1)\n"
      ]
    },
    {
      "cell_type": "code",
      "execution_count": 13,
      "metadata": {
        "gather": {
          "logged": 1702336153237
        },
        "jupyter": {
          "outputs_hidden": false,
          "source_hidden": false
        },
        "nteract": {
          "transient": {
            "deleting": false
          }
        }
      },
      "outputs": [],
      "source": [
        "df_test.to_csv('df_test.csv', index=False)\n",
        "df_2.to_csv('df_train.csv', index=False)"
      ]
    },
    {
      "cell_type": "code",
      "execution_count": 4,
      "metadata": {
        "gather": {
          "logged": 1702357734681
        },
        "jupyter": {
          "outputs_hidden": false,
          "source_hidden": false
        },
        "nteract": {
          "transient": {
            "deleting": false
          }
        }
      },
      "outputs": [],
      "source": [
        "X = df_2['sentence']\n",
        "y=df_2['class']\n",
        "X_train, X_test, y_train, y_test = train_test_split(X, y, test_size=1000, random_state=42)"
      ]
    },
    {
      "cell_type": "code",
      "execution_count": 5,
      "metadata": {
        "gather": {
          "logged": 1702357745953
        },
        "jupyter": {
          "outputs_hidden": false,
          "source_hidden": false
        },
        "nteract": {
          "transient": {
            "deleting": false
          }
        }
      },
      "outputs": [],
      "source": [
        "class CustomModel():\n",
        "    def __init__(self, c_gram_range=(1, 1), C=1.0, w_gram_range=(1,1), s=2,  max_features=20000):\n",
        "        self.c_gram_range = c_gram_range\n",
        "        self.w_gram_range = w_gram_range\n",
        "        self.s = s\n",
        "        self.C = C\n",
        "        self.max_features = max_features\n",
        "        self.word_vectorizer=None\n",
        "        self.m = None\n",
        "        self.char_vectorizer = TfidfVectorizer(analyzer='char', ngram_range=self.c_gram_range, lowercase=False,max_features= self.max_features )\n",
        "        if w_gram_range:\n",
        "            self.word_vectorizer = TfidfVectorizer(analyzer='word', ngram_range=self.w_gram_range, lowercase=False,max_features= self.max_features )\n",
        "    def fit(self, X, y):\n",
        "        # Tokenize and vectorize the input data\n",
        "\n",
        "\n",
        "        X_char_transformed = self.char_vectorizer.fit_transform(X)\n",
        "        if self.word_vectorizer:\n",
        "            X_word_transformed = self.word_vectorizer.fit_transform(X)\n",
        "            X_train_combined = hstack([X_char_transformed, X_word_transformed])\n",
        "            prob  = problem(y.values, X_train_combined)\n",
        "        else:\n",
        "            prob  = problem(y.values, X_char_transformed)\n",
        "\n",
        "\n",
        "        self.m = train(prob, parameter(f'-s {self.s} -c {self.C}'))\n",
        "        return self\n",
        "\n",
        "    def transform(self, X):\n",
        "        # Tokenize and vectorize the input data\n",
        "        X_char_transformed = self.char_vectorizer.transform(X)\n",
        "        if self.word_vectorizer:\n",
        "            X_word_transformed = self.word_vectorizer.fit_transform(X)\n",
        "            X_train_combined = hstack([X_char_transformed, X_word_transformed])\n",
        "            return X_train_combined\n",
        "        else:\n",
        "            return X_char_transformed\n",
        "\n",
        "    def predict(self, X):\n",
        "        # Tokenize and vectorize the input data, then make predictions\n",
        "\n",
        "        # Input validation\n",
        "        X_transformed = self.transform(X)\n",
        "        p_label1, p_acc, p_val = pred([], X_transformed, self.m)\n",
        "        return [int(x) for x in p_label1]\n",
        "    def find_best_c(self, X,y):\n",
        "        X_char_transformed = self.char_vectorizer.fit_transform(X)\n",
        "        if self.word_vectorizer:\n",
        "            X_word_transformed = self.word_vectorizer.fit_transform(X)\n",
        "            X_train_combined = hstack([X_char_transformed, X_word_transformed])\n",
        "            prob  = problem(y.values, X_train_combined)\n",
        "        else:\n",
        "            prob  = problem(y.values, X_char_transformed)\n",
        "\n",
        "\n",
        "        best_C, best_p, best_rate  = train(prob, parameter(f'-s {self.s} -C'))\n",
        "        return best_C"
      ]
    },
    {
      "cell_type": "code",
      "execution_count": 6,
      "metadata": {
        "gather": {
          "logged": 1702357749075
        },
        "jupyter": {
          "outputs_hidden": false,
          "source_hidden": false
        },
        "nteract": {
          "transient": {
            "deleting": false
          }
        }
      },
      "outputs": [],
      "source": [
        "\n",
        "custom_model4 = CustomModel(c_gram_range=(1, 6), C=0.25, w_gram_range=None, s=2,  max_features=None)\n"
      ]
    },
    {
      "cell_type": "code",
      "execution_count": 7,
      "metadata": {
        "gather": {
          "logged": 1702358646647
        },
        "jupyter": {
          "outputs_hidden": false,
          "source_hidden": false
        },
        "nteract": {
          "transient": {
            "deleting": false
          }
        }
      },
      "outputs": [
        {
          "name": "stdout",
          "output_type": "stream",
          "text": [
            "init f 1.928e+05 |g| 4.638e+04\n",
            "iter  1 f 4.809e+04 |g| 6.136e+03 CG   2 step_size 1.00e+00 \n",
            "iter  2 f 2.833e+04 |g| 1.789e+03 CG   4 step_size 1.00e+00 \n",
            "iter  3 f 2.298e+04 |g| 1.598e+03 CG   5 step_size 1.00e+00 \n",
            "iter  4 f 2.205e+04 |g| 4.334e+02 CG   2 step_size 1.00e+00 \n",
            "iter  5 f 1.918e+04 |g| 3.164e+03 CG  12 step_size 1.00e+00 \n",
            "iter  6 f 1.712e+04 |g| 5.760e+02 CG   3 step_size 1.00e+00 \n",
            "iter  7 f 1.654e+04 |g| 5.648e+02 CG  17 step_size 5.00e-01 \n",
            "iter  8 f 1.636e+04 |g| 1.248e+02 CG   3 step_size 1.00e+00 \n",
            "iter  9 f 1.614e+04 |g| 3.745e+02 CG  15 step_size 1.00e+00 \n",
            "iter 10 f 1.606e+04 |g| 1.078e+02 CG   2 step_size 1.00e+00 \n",
            "iter 11 f 1.605e+04 |g| 1.166e+02 CG   7 step_size 5.00e-01 \n",
            "iter 12 f 1.604e+04 |g| 3.070e+01 CG   5 step_size 1.00e+00 \n",
            "init f 1.928e+05 |g| 4.554e+04\n",
            "iter  1 f 3.961e+04 |g| 6.502e+03 CG   2 step_size 1.00e+00 \n",
            "iter  2 f 2.039e+04 |g| 1.850e+03 CG   3 step_size 1.00e+00 \n",
            "iter  3 f 1.384e+04 |g| 6.472e+02 CG   4 step_size 1.00e+00 \n",
            "iter  4 f 1.095e+04 |g| 5.924e+02 CG   6 step_size 1.00e+00 \n",
            "iter  5 f 1.010e+04 |g| 1.608e+03 CG  10 step_size 1.00e+00 \n",
            "iter  6 f 9.216e+03 |g| 1.329e+02 CG   2 step_size 1.00e+00 \n",
            "iter  7 f 9.172e+03 |g| 8.917e+02 CG  13 step_size 1.00e+00 \n",
            "iter  8 f 8.902e+03 |g| 1.570e+02 CG   2 step_size 1.00e+00 \n",
            "iter  9 f 8.821e+03 |g| 4.832e+01 CG   7 step_size 1.00e+00 \n",
            "init f 1.928e+05 |g| 4.444e+04\n",
            "iter  1 f 4.046e+04 |g| 6.427e+03 CG   2 step_size 1.00e+00 \n",
            "iter  2 f 2.195e+04 |g| 2.111e+03 CG   4 step_size 1.00e+00 \n",
            "iter  3 f 1.837e+04 |g| 2.401e+03 CG   5 step_size 1.00e+00 \n",
            "iter  4 f 1.680e+04 |g| 6.085e+02 CG   2 step_size 1.00e+00 \n",
            "iter  5 f 1.458e+04 |g| 6.886e+02 CG   8 step_size 1.00e+00 \n",
            "iter  6 f 1.402e+04 |g| 4.179e+02 CG   3 step_size 1.00e+00 \n",
            "iter  7 f 1.338e+04 |g| 7.677e+02 CG  13 step_size 5.00e-01 \n",
            "iter  8 f 1.298e+04 |g| 2.087e+02 CG   3 step_size 1.00e+00 \n",
            "iter  9 f 1.282e+04 |g| 3.150e+02 CG  15 step_size 2.50e-01 \n",
            "iter 10 f 1.273e+04 |g| 5.449e+01 CG   4 step_size 1.00e+00 \n",
            "init f 1.928e+05 |g| 4.294e+04\n",
            "iter  1 f 3.337e+04 |g| 5.020e+03 CG   3 step_size 1.00e+00 \n",
            "iter  2 f 2.212e+04 |g| 1.975e+03 CG   3 step_size 1.00e+00 \n",
            "iter  3 f 1.764e+04 |g| 1.373e+03 CG   4 step_size 1.00e+00 \n",
            "iter  4 f 1.466e+04 |g| 1.527e+03 CG   9 step_size 1.00e+00 \n",
            "iter  5 f 1.381e+04 |g| 2.369e+02 CG   2 step_size 1.00e+00 \n",
            "iter  6 f 1.361e+04 |g| 1.077e+03 CG  10 step_size 2.50e-01 \n",
            "iter  7 f 1.328e+04 |g| 1.378e+02 CG   3 step_size 1.00e+00 \n",
            "iter  8 f 1.325e+04 |g| 1.127e+03 CG   9 step_size 1.00e+00 \n",
            "iter  9 f 1.254e+04 |g| 1.616e+02 CG   4 step_size 1.00e+00 \n",
            "iter 10 f 1.244e+04 |g| 9.046e+01 CG   7 step_size 1.00e+00 \n",
            "iter 11 f 1.243e+04 |g| 2.180e+02 CG  16 step_size 6.25e-02 \n",
            "iter 12 f 1.242e+04 |g| 3.982e+01 CG   2 step_size 1.00e+00 \n",
            "init f 1.928e+05 |g| 4.318e+04\n",
            "iter  1 f 3.477e+04 |g| 5.404e+03 CG   3 step_size 1.00e+00 \n",
            "iter  2 f 2.094e+04 |g| 2.375e+03 CG   3 step_size 1.00e+00 \n",
            "iter  3 f 1.460e+04 |g| 7.070e+02 CG   5 step_size 1.00e+00 \n",
            "iter  4 f 1.305e+04 |g| 1.865e+03 CG  14 step_size 5.00e-01 \n",
            "iter  5 f 1.154e+04 |g| 2.928e+02 CG   5 step_size 1.00e+00 \n",
            "iter  6 f 1.131e+04 |g| 1.007e+03 CG  15 step_size 2.50e-01 \n",
            "iter  7 f 1.043e+04 |g| 2.469e+02 CG  15 step_size 1.00e+00 \n",
            "iter  8 f 1.040e+04 |g| 4.914e+01 CG   4 step_size 1.00e+00 \n",
            "init f 1.928e+05 |g| 4.023e+04\n",
            "iter  1 f 4.471e+04 |g| 5.156e+03 CG   3 step_size 1.00e+00 \n",
            "iter  2 f 3.141e+04 |g| 1.513e+03 CG   6 step_size 1.00e+00 \n",
            "iter  3 f 2.619e+04 |g| 4.338e+03 CG  16 step_size 1.00e+00 \n",
            "iter  4 f 2.340e+04 |g| 5.667e+02 CG   2 step_size 1.00e+00 \n",
            "iter  5 f 2.321e+04 |g| 9.405e+02 CG   3 step_size 5.00e-01 \n",
            "iter  6 f 2.256e+04 |g| 2.833e+02 CG   5 step_size 1.00e+00 \n",
            "iter  7 f 2.247e+04 |g| 9.192e+01 CG   3 step_size 1.00e+00 \n",
            "iter  8 f 2.238e+04 |g| 1.354e+03 CG  12 step_size 2.50e-01 \n",
            "iter  9 f 2.210e+04 |g| 1.998e+02 CG   2 step_size 1.00e+00 \n",
            "iter 10 f 2.169e+04 |g| 1.790e+02 CG  10 step_size 1.00e+00 \n",
            "iter 11 f 2.159e+04 |g| 1.487e+02 CG  11 step_size 1.00e+00 \n",
            "iter 12 f 2.158e+04 |g| 3.956e+01 CG   3 step_size 1.00e+00 \n",
            "init f 1.928e+05 |g| 4.564e+04\n",
            "iter  1 f 3.164e+04 |g| 5.351e+03 CG   3 step_size 1.00e+00 \n",
            "iter  2 f 1.521e+04 |g| 2.068e+03 CG   5 step_size 1.00e+00 \n",
            "iter  3 f 1.022e+04 |g| 6.744e+02 CG   9 step_size 1.00e+00 \n",
            "iter  4 f 8.795e+03 |g| 7.332e+02 CG  12 step_size 1.00e+00 \n",
            "iter  5 f 8.615e+03 |g| 1.589e+03 CG   4 step_size 1.00e+00 \n",
            "iter  6 f 8.206e+03 |g| 8.121e+01 CG   2 step_size 1.00e+00 \n",
            "iter  7 f 8.142e+03 |g| 4.080e+02 CG  13 step_size 2.50e-01 \n",
            "iter  8 f 8.058e+03 |g| 6.882e+01 CG   5 step_size 1.00e+00 \n",
            "iter  9 f 8.042e+03 |g| 3.493e+02 CG  12 step_size 2.50e-01 \n",
            "iter 10 f 8.005e+03 |g| 1.495e+02 CG   2 step_size 1.00e+00 \n",
            "iter 11 f 7.990e+03 |g| 3.074e+02 CG  12 step_size 5.00e-01 \n",
            "iter 12 f 7.936e+03 |g| 6.905e+01 CG   2 step_size 1.00e+00 \n",
            "iter 13 f 7.929e+03 |g| 1.226e+02 CG  13 step_size 2.50e-01 \n",
            "iter 14 f 7.922e+03 |g| 5.719e+01 CG   2 step_size 1.00e+00 \n",
            "init f 1.928e+05 |g| 5.177e+04\n",
            "iter  1 f 4.200e+04 |g| 5.892e+03 CG   2 step_size 1.00e+00 \n",
            "iter  2 f 2.515e+04 |g| 2.234e+03 CG   5 step_size 1.00e+00 \n",
            "iter  3 f 2.050e+04 |g| 2.438e+03 CG  15 step_size 1.00e+00 \n",
            "iter  4 f 1.767e+04 |g| 9.410e+02 CG   2 step_size 1.00e+00 \n",
            "iter  5 f 1.750e+04 |g| 1.644e+03 CG  14 step_size 5.00e-01 \n",
            "iter  6 f 1.672e+04 |g| 4.171e+02 CG   2 step_size 1.00e+00 \n",
            "iter  7 f 1.653e+04 |g| 4.367e+02 CG   4 step_size 1.00e+00 \n",
            "iter  8 f 1.646e+04 |g| 9.594e+01 CG   2 step_size 1.00e+00 \n",
            "iter  9 f 1.643e+04 |g| 8.601e+02 CG  14 step_size 5.00e-01 \n",
            "iter 10 f 1.619e+04 |g| 2.888e+02 CG   2 step_size 1.00e+00 \n",
            "iter 11 f 1.613e+04 |g| 1.901e+02 CG   3 step_size 1.00e+00 \n",
            "iter 12 f 1.611e+04 |g| 5.469e+01 CG   2 step_size 1.00e+00 \n",
            "iter 13 f 1.610e+04 |g| 2.262e+02 CG  14 step_size 1.25e-01 \n",
            "iter 14 f 1.608e+04 |g| 4.282e+01 CG   2 step_size 1.00e+00 \n",
            "iter 15 f 1.603e+04 |g| 7.862e+01 CG   8 step_size 1.00e+00 \n",
            "iter 16 f 1.602e+04 |g| 1.129e+02 CG  18 step_size 1.00e+00 \n",
            "iter 17 f 1.597e+04 |g| 9.323e+01 CG   3 step_size 1.00e+00 \n",
            "iter 18 f 1.597e+04 |g| 6.485e+01 CG   6 step_size 1.00e+00 \n",
            "iter 19 f 1.596e+04 |g| 1.426e+01 CG   4 step_size 1.00e+00 \n",
            "init f 1.928e+05 |g| 4.729e+04\n",
            "iter  1 f 3.986e+04 |g| 6.210e+03 CG   2 step_size 1.00e+00 \n",
            "iter  2 f 2.330e+04 |g| 1.927e+03 CG   3 step_size 1.00e+00 \n",
            "iter  3 f 1.740e+04 |g| 1.672e+03 CG   5 step_size 1.00e+00 \n",
            "iter  4 f 1.381e+04 |g| 1.063e+03 CG   9 step_size 1.00e+00 \n",
            "iter  5 f 1.311e+04 |g| 3.282e+02 CG   4 step_size 1.00e+00 \n",
            "iter  6 f 1.227e+04 |g| 1.102e+03 CG  14 step_size 5.00e-01 \n",
            "iter  7 f 1.184e+04 |g| 2.761e+02 CG   2 step_size 1.00e+00 \n",
            "iter  8 f 1.173e+04 |g| 4.601e+02 CG  14 step_size 1.25e-01 \n",
            "iter  9 f 1.148e+04 |g| 7.085e+02 CG  14 step_size 1.00e+00 \n",
            "iter 10 f 1.114e+04 |g| 1.962e+02 CG   5 step_size 1.00e+00 \n",
            "iter 11 f 1.111e+04 |g| 6.543e+01 CG   4 step_size 1.00e+00 \n",
            "iter 12 f 1.109e+04 |g| 7.061e+01 CG   9 step_size 1.00e+00 \n",
            "iter 13 f 1.109e+04 |g| 1.138e+02 CG  16 step_size 1.25e-01 \n",
            "iter 14 f 1.108e+04 |g| 4.227e+01 CG   4 step_size 1.00e+00 \n",
            "iter 15 f 1.107e+04 |g| 3.386e+01 CG  13 step_size 1.00e+00 \n",
            "Accuracy = 1.6% (16/1000) (classification)\n",
            "Ensemble Model Accuracy: 0.895\n"
          ]
        }
      ],
      "source": [
        "custom_model4.fit(X_train, y_train)\n",
        "df_test\n",
        "# Make predictions on the test data\n",
        "y_pred = custom_model4.predict(df_test['sentence'].values)\n",
        "\n",
        "# Evaluate the accuracy of the ensemble model\n",
        "accuracy = accuracy_score(df_test['class'].values, y_pred)\n",
        "print(f'Ensemble Model Accuracy: {accuracy}')"
      ]
    },
    {
      "cell_type": "code",
      "execution_count": null,
      "metadata": {
        "jupyter": {
          "outputs_hidden": false,
          "source_hidden": false
        },
        "nteract": {
          "transient": {
            "deleting": false
          }
        }
      },
      "outputs": [],
      "source": [
        "# angika, bhojpuri, hindi, konkani, maithali, marathi, nepal_bhasha, nepali, sanskrit"
      ]
    },
    {
      "cell_type": "code",
      "execution_count": 17,
      "metadata": {
        "gather": {
          "logged": 1702359025376
        },
        "jupyter": {
          "outputs_hidden": false,
          "source_hidden": false
        },
        "nteract": {
          "transient": {
            "deleting": false
          }
        }
      },
      "outputs": [
        {
          "data": {
            "image/png": "[encoded data removed]",
            "text/plain": [
              "<Figure size 800x600 with 1 Axes>"
            ]
          },
          "metadata": {},
          "output_type": "display_data"
        }
      ],
      "source": [
        "import numpy as np\n",
        "import matplotlib.pyplot as plt\n",
        "import seaborn as sns\n",
        "from sklearn.metrics import confusion_matrix\n",
        "\n",
        "# Example data\n",
        "\n",
        "# Define custom class labels\n",
        "class_labels = ['angika', 'bhojpuri', 'hindi', 'konkani', 'maithali', 'marathi', 'nepal_bhasha', 'nepali', 'sanskrit']\n",
        "\n",
        "# Create confusion matrix with custom labels\n",
        "cm = confusion_matrix(df_test['class'].values, y_pred, labels=np.arange(len(class_labels)))\n",
        "\n",
        "# Plot the confusion matrix\n",
        "plt.figure(figsize=(8, 6))\n",
        "sns.heatmap(cm, annot=True, fmt='d', cmap='Blues', cbar=False, xticklabels=class_labels, yticklabels=class_labels)\n",
        "plt.xlabel('Predicted Labels')\n",
        "plt.ylabel('True Labels')\n",
        "plt.title('Confusion Matrix with Custom Labels')\n",
        "plt.show()\n"
      ]
    },
    {
      "cell_type": "code",
      "execution_count": 18,
      "metadata": {
        "gather": {
          "logged": 1702359101238
        },
        "jupyter": {
          "outputs_hidden": false,
          "source_hidden": false
        },
        "nteract": {
          "transient": {
            "deleting": false
          }
        }
      },
      "outputs": [
        {
          "name": "stdout",
          "output_type": "stream",
          "text": [
            "Accuracy: 0.8950\n",
            "Precision: 0.8925, Recall: 0.8950, F1-Score: 0.8883\n",
            "******\n",
            "              precision    recall  f1-score   support\n",
            "\n",
            "           0       0.69      0.26      0.38        42\n",
            "           1       0.91      0.86      0.89        81\n",
            "           2       0.79      0.93      0.85       129\n",
            "           3       0.98      0.96      0.97       129\n",
            "           4       0.92      0.80      0.86       102\n",
            "           5       0.92      0.93      0.93       129\n",
            "           6       0.88      0.94      0.91       130\n",
            "           7       0.91      0.95      0.93       129\n",
            "           8       0.90      0.95      0.93       129\n",
            "\n",
            "    accuracy                           0.90      1000\n",
            "   macro avg       0.88      0.84      0.85      1000\n",
            "weighted avg       0.89      0.90      0.89      1000\n",
            "\n"
          ]
        }
      ],
      "source": [
        "from sklearn.metrics import accuracy_score, precision_score, recall_score, f1_score, classification_report\n",
        "\n",
        "# Accuracy\n",
        "accuracy = accuracy_score(df_test['class'].values, y_pred)\n",
        "print(f'Accuracy: {accuracy:.4f}')\n",
        "\n",
        "# Precision, Recall, F1-Score\n",
        "precision = precision_score(df_test['class'].values, y_pred, average='weighted')\n",
        "recall = recall_score(df_test['class'].values, y_pred, average='weighted')\n",
        "f1 = f1_score(df_test['class'].values, y_pred, average='weighted')\n",
        "print(f'Precision: {precision:.4f}, Recall: {recall:.4f}, F1-Score: {f1:.4f}')\n",
        "\n",
        "# Classification Report\n",
        "print('******')\n",
        "print(classification_report(df_test['class'].values, y_pred))\n"
      ]
    },
    {
      "cell_type": "code",
      "execution_count": 20,
      "metadata": {
        "gather": {
          "logged": 1702359138085
        },
        "jupyter": {
          "outputs_hidden": false,
          "source_hidden": false
        },
        "nteract": {
          "transient": {
            "deleting": false
          }
        }
      },
      "outputs": [
        {
          "name": "stdout",
          "output_type": "stream",
          "text": [
            "         Precision    Recall  F1-Score\n",
            "Class 0   0.687500  0.261905  0.379310\n",
            "Class 1   0.909091  0.864198  0.886076\n",
            "Class 2   0.789474  0.930233  0.854093\n",
            "Class 3   0.976378  0.961240  0.968750\n",
            "Class 4   0.921348  0.803922  0.858639\n",
            "Class 5   0.923077  0.930233  0.926641\n",
            "Class 6   0.884058  0.938462  0.910448\n",
            "Class 7   0.911111  0.953488  0.931818\n",
            "Class 8   0.904412  0.953488  0.928302\n"
          ]
        }
      ],
      "source": [
        "from sklearn.metrics import precision_recall_fscore_support\n",
        "\n",
        "# Class-wise metrics\n",
        "precision, recall, f1, _ = precision_recall_fscore_support(df_test['class'].values, y_pred, average=None)\n",
        "class_labels = [f'Class {i}' for i in range(len(precision))]\n",
        "\n",
        "# Create a DataFrame or plot directly\n",
        "class_metrics_df = pd.DataFrame({'Precision': precision, 'Recall': recall, 'F1-Score': f1}, index=class_labels)\n",
        "print(class_metrics_df)\n"
      ]
    },
    {
      "cell_type": "code",
      "execution_count": null,
      "metadata": {
        "jupyter": {
          "outputs_hidden": false,
          "source_hidden": false
        },
        "nteract": {
          "transient": {
            "deleting": false
          }
        }
      },
      "outputs": [],
      "source": []
    }
  ],
  "metadata": {
    "kernel_info": {
      "name": "python38-azureml"
    },
    "kernelspec": {
      "display_name": "venv",
      "language": "python",
      "name": "python3"
    },
    "language_info": {
      "codemirror_mode": {
        "name": "ipython",
        "version": 3
      },
      "file_extension": ".py",
      "mimetype": "text/x-python",
      "name": "python",
      "nbconvert_exporter": "python",
      "pygments_lexer": "ipython3",
      "version": "3.9.7"
    },
    "microsoft": {
      "host": {
        "AzureML": {
          "notebookHasBeenCompleted": true
        }
      },
      "ms_spell_check": {
        "ms_spell_check_language": "en"
      }
    },
    "nteract": {
      "version": "nteract-front-end@1.0.0"
    }
  },
  "nbformat": 4,
  "nbformat_minor": 2
}
