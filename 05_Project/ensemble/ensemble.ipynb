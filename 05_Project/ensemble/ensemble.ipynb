{
  "cells": [
    {
      "cell_type": "code",
      "execution_count": 1,
      "metadata": {
        "gather": {
          "logged": 1702359181771
        }
      },
      "outputs": [],
      "source": [
        "import os\n",
        "import pandas as pd\n",
        "import numpy as np\n",
        "\n",
        "from sklearn.metrics import classification_report\n",
        "from sklearn.model_selection import train_test_split\n",
        "# import argparse\n",
        "\n",
        "import pandas as pd\n",
        "import json\n",
        "from sklearn.model_selection import train_test_split, GridSearchCV\n",
        "from sklearn.base import BaseEstimator, TransformerMixin,ClassifierMixin\n",
        "from sklearn.utils.validation import check_X_y, check_array, check_is_fitted\n",
        "from sklearn.utils.multiclass import unique_labels\n",
        "\n",
        "from sklearn.feature_extraction.text import TfidfVectorizer\n",
        "from sklearn.model_selection import train_test_split\n",
        "from sklearn.metrics import accuracy_score\n",
        "from liblinear.liblinearutil import train, problem, parameter\n",
        "from liblinear.liblinearutil import predict as pred\n",
        "\n",
        "from scipy.sparse import hstack\n",
        "from sklearn.ensemble import VotingClassifier\n",
        "\n",
        "\n"
      ]
    },
    {
      "cell_type": "code",
      "execution_count": 2,
      "metadata": {
        "gather": {
          "logged": 1702359208990
        },
        "jupyter": {
          "outputs_hidden": false,
          "source_hidden": false
        },
        "nteract": {
          "transient": {
            "deleting": false
          }
        }
      },
      "outputs": [
        {
          "name": "stdout",
          "output_type": "stream",
          "text": [
            "773034\n"
          ]
        }
      ],
      "source": [
        "df = pd.read_csv('../corpus/dataset.csv')\n",
        "df['sentence']=df['sentence'].values.astype('U')\n",
        "print(len(df))\n",
        "\n",
        "X = df['sentence']\n",
        "y = df['class']\n",
        "X_train, X_test, y_train, y_test = train_test_split(X, y, test_size=1000, stratify=y, random_state=42)\n",
        "df_test = pd.concat([X_test, y_test], axis=1)\n",
        "df_2 = pd.concat([X_train, y_train], axis=1)\n"
      ]
    },
    {
      "cell_type": "code",
      "execution_count": 3,
      "metadata": {
        "gather": {
          "logged": 1702359209356
        },
        "jupyter": {
          "outputs_hidden": false,
          "source_hidden": false
        },
        "nteract": {
          "transient": {
            "deleting": false
          }
        }
      },
      "outputs": [],
      "source": [
        "class CustomModel(BaseEstimator, TransformerMixin,ClassifierMixin):\n",
        "    def __init__(self, c_gram_range=(1, 1), C=1.0, w_gram_range=(1,1), s=2,  max_features=20000):\n",
        "        self.c_gram_range = c_gram_range\n",
        "        self.w_gram_range = w_gram_range\n",
        "        self.s = s\n",
        "        self.C = C\n",
        "        self.max_features = max_features\n",
        "        self.word_vectorizer=None\n",
        "        self.m = None\n",
        "        self.char_vectorizer = TfidfVectorizer(analyzer='char', ngram_range=self.c_gram_range, lowercase=False,max_features= self.max_features )\n",
        "        if w_gram_range:\n",
        "            self.word_vectorizer = TfidfVectorizer(analyzer='word', ngram_range=self.w_gram_range, lowercase=False,max_features= self.max_features )\n",
        "    def fit(self, X, y):\n",
        "        # Tokenize and vectorize the input data\n",
        "\n",
        "        self.classes_ = unique_labels(y)\n",
        "\n",
        "        X_char_transformed = self.char_vectorizer.fit_transform(X)\n",
        "        if self.word_vectorizer:\n",
        "            X_word_transformed = self.word_vectorizer.fit_transform(X)\n",
        "            X_train_combined = hstack([X_char_transformed, X_word_transformed])\n",
        "            prob  = problem(y, X_train_combined)\n",
        "        else:\n",
        "            prob  = problem(y, X_char_transformed)\n",
        "\n",
        "\n",
        "        self.m = train(prob, parameter(f'-s {self.s} -c {self.C}'))\n",
        "        self.is_fitted_ = True\n",
        "        return self\n",
        "\n",
        "    def transform(self, X):\n",
        "        # Tokenize and vectorize the input data\n",
        "        check_is_fitted(self)\n",
        "        X_char_transformed = self.char_vectorizer.transform(X)\n",
        "        if self.word_vectorizer:\n",
        "            X_word_transformed = self.word_vectorizer.fit_transform(X)\n",
        "            X_train_combined = hstack([X_char_transformed, X_word_transformed])\n",
        "            return X_train_combined\n",
        "        else:\n",
        "            return X_char_transformed\n",
        "\n",
        "    def predict(self, X):\n",
        "        # Tokenize and vectorize the input data, then make predictions\n",
        "        check_is_fitted(self)\n",
        "\n",
        "        # Input validation\n",
        "        X_transformed = self.transform(X)\n",
        "        p_label1, p_acc, p_val = pred([], X_transformed, self.m)\n",
        "        return [int(x) for x in p_label1]"
      ]
    },
    {
      "cell_type": "code",
      "execution_count": 4,
      "metadata": {
        "gather": {
          "logged": 1702359209643
        },
        "jupyter": {
          "outputs_hidden": false,
          "source_hidden": false
        },
        "nteract": {
          "transient": {
            "deleting": false
          }
        }
      },
      "outputs": [
        {
          "data": {
            "text/plain": [
              "772034"
            ]
          },
          "execution_count": 4,
          "metadata": {},
          "output_type": "execute_result"
        }
      ],
      "source": [
        "len(df_2)"
      ]
    },
    {
      "cell_type": "code",
      "execution_count": 5,
      "metadata": {
        "gather": {
          "logged": 1702359209837
        },
        "jupyter": {
          "outputs_hidden": false,
          "source_hidden": false
        },
        "nteract": {
          "transient": {
            "deleting": false
          }
        }
      },
      "outputs": [],
      "source": [
        "X = df_2['sentence']\n",
        "y=df_2['class']\n",
        "X_train, X_test, y_train, y_test = train_test_split(X, y, test_size=1000, train_size=100000, random_state=42)\n"
      ]
    },
    {
      "cell_type": "code",
      "execution_count": 6,
      "metadata": {
        "gather": {
          "logged": 1702359833529
        },
        "jupyter": {
          "outputs_hidden": false,
          "source_hidden": false
        },
        "nteract": {
          "transient": {
            "deleting": false
          }
        }
      },
      "outputs": [
        {
          "name": "stdout",
          "output_type": "stream",
          "text": [
            "init f 1.000e+05 |g| 4.188e+04\n",
            "iter  1 f 2.025e+04 |g| 4.549e+03 CG   2 step_size 1.00e+00 \n",
            "iter  2 f 1.341e+04 |g| 1.555e+03 CG   3 step_size 1.00e+00 \n",
            "iter  3 f 1.047e+04 |g| 4.272e+03 CG   9 step_size 1.00e+00 \n",
            "iter  4 f 7.931e+03 |g| 5.660e+02 CG   2 step_size 1.00e+00 \n",
            "iter  5 f 6.468e+03 |g| 3.978e+02 CG  13 step_size 1.00e+00 \n",
            "iter  6 f 6.322e+03 |g| 1.030e+02 CG   4 step_size 1.00e+00 \n",
            "iter  7 f 6.289e+03 |g| 1.847e+02 CG   4 step_size 1.00e+00 \n",
            "iter  8 f 6.243e+03 |g| 3.442e+01 CG   3 step_size 1.00e+00 \n",
            "init f 1.000e+05 |g| 4.118e+04\n",
            "iter  1 f 1.794e+04 |g| 5.265e+03 CG   2 step_size 1.00e+00 \n",
            "iter  2 f 7.691e+03 |g| 1.399e+03 CG   4 step_size 1.00e+00 \n",
            "iter  3 f 4.801e+03 |g| 6.290e+02 CG   8 step_size 1.00e+00 \n",
            "iter  4 f 4.432e+03 |g| 6.653e+02 CG  11 step_size 5.00e-01 \n",
            "iter  5 f 4.064e+03 |g| 2.609e+02 CG   4 step_size 1.00e+00 \n",
            "iter  6 f 4.051e+03 |g| 6.390e+02 CG  11 step_size 1.00e+00 \n",
            "iter  7 f 3.791e+03 |g| 4.668e+01 CG   2 step_size 1.00e+00 \n",
            "init f 1.000e+05 |g| 4.158e+04\n",
            "iter  1 f 1.907e+04 |g| 4.699e+03 CG   2 step_size 1.00e+00 \n",
            "iter  2 f 9.306e+03 |g| 1.447e+03 CG   5 step_size 1.00e+00 \n",
            "iter  3 f 6.128e+03 |g| 8.449e+02 CG  13 step_size 1.00e+00 \n",
            "iter  4 f 5.586e+03 |g| 2.791e+02 CG   4 step_size 1.00e+00 \n",
            "iter  5 f 5.425e+03 |g| 3.493e+02 CG  14 step_size 2.50e-01 \n",
            "iter  6 f 5.181e+03 |g| 1.320e+02 CG   7 step_size 1.00e+00 \n",
            "iter  7 f 5.014e+03 |g| 2.334e+02 CG  11 step_size 1.00e+00 \n",
            "iter  8 f 4.940e+03 |g| 8.296e+01 CG   4 step_size 1.00e+00 \n",
            "iter  9 f 4.926e+03 |g| 1.348e+02 CG  11 step_size 5.00e-01 \n",
            "iter 10 f 4.916e+03 |g| 1.872e+01 CG   2 step_size 1.00e+00 \n",
            "init f 1.000e+05 |g| 3.833e+04\n",
            "iter  1 f 1.560e+04 |g| 3.784e+03 CG   3 step_size 1.00e+00 \n",
            "iter  2 f 1.033e+04 |g| 1.169e+03 CG   3 step_size 1.00e+00 \n",
            "iter  3 f 7.989e+03 |g| 8.686e+02 CG   4 step_size 1.00e+00 \n",
            "iter  4 f 5.296e+03 |g| 4.352e+02 CG  12 step_size 1.00e+00 \n",
            "iter  5 f 4.981e+03 |g| 3.911e+02 CG  15 step_size 1.00e+00 \n",
            "iter  6 f 4.791e+03 |g| 6.635e+01 CG   5 step_size 1.00e+00 \n",
            "iter  7 f 4.761e+03 |g| 9.864e+01 CG   6 step_size 1.00e+00 \n",
            "iter  8 f 4.759e+03 |g| 1.810e+02 CG  15 step_size 1.00e+00 \n",
            "iter  9 f 4.729e+03 |g| 2.531e+01 CG   2 step_size 1.00e+00 \n",
            "init f 1.000e+05 |g| 3.850e+04\n",
            "iter  1 f 1.547e+04 |g| 4.157e+03 CG   3 step_size 1.00e+00 \n",
            "iter  2 f 9.090e+03 |g| 1.317e+03 CG   4 step_size 1.00e+00 \n",
            "iter  3 f 6.571e+03 |g| 8.347e+02 CG   5 step_size 1.00e+00 \n",
            "iter  4 f 4.459e+03 |g| 5.705e+02 CG  13 step_size 1.00e+00 \n",
            "iter  5 f 4.314e+03 |g| 1.819e+02 CG   2 step_size 1.00e+00 \n",
            "iter  6 f 4.253e+03 |g| 6.347e+02 CG  14 step_size 1.00e+00 \n",
            "iter  7 f 4.065e+03 |g| 1.136e+02 CG   2 step_size 1.00e+00 \n",
            "iter  8 f 4.048e+03 |g| 2.520e+02 CG   9 step_size 1.00e+00 \n",
            "iter  9 f 4.018e+03 |g| 2.456e+01 CG   2 step_size 1.00e+00 \n",
            "init f 1.000e+05 |g| 3.591e+04\n",
            "iter  1 f 2.228e+04 |g| 4.112e+03 CG   3 step_size 1.00e+00 \n",
            "iter  2 f 1.464e+04 |g| 2.406e+03 CG   8 step_size 1.00e+00 \n",
            "iter  3 f 1.208e+04 |g| 5.687e+02 CG   3 step_size 1.00e+00 \n",
            "iter  4 f 9.445e+03 |g| 1.353e+03 CG  12 step_size 1.00e+00 \n",
            "iter  5 f 8.418e+03 |g| 3.159e+02 CG   2 step_size 1.00e+00 \n",
            "iter  6 f 8.342e+03 |g| 1.804e+03 CG  10 step_size 5.00e-01 \n",
            "iter  7 f 7.853e+03 |g| 2.046e+02 CG   2 step_size 1.00e+00 \n",
            "iter  8 f 7.520e+03 |g| 9.909e+01 CG  14 step_size 1.00e+00 \n",
            "iter  9 f 7.503e+03 |g| 3.964e+01 CG   4 step_size 1.00e+00 \n",
            "init f 1.000e+05 |g| 4.061e+04\n",
            "iter  1 f 1.413e+04 |g| 4.552e+03 CG   3 step_size 1.00e+00 \n",
            "iter  2 f 6.916e+03 |g| 1.223e+03 CG   5 step_size 1.00e+00 \n",
            "iter  3 f 5.212e+03 |g| 2.837e+03 CG  12 step_size 1.00e+00 \n",
            "iter  4 f 3.923e+03 |g| 3.865e+02 CG   2 step_size 1.00e+00 \n",
            "iter  5 f 3.882e+03 |g| 8.752e+02 CG   6 step_size 2.50e-01 \n",
            "iter  6 f 3.731e+03 |g| 2.241e+02 CG   2 step_size 1.00e+00 \n",
            "iter  7 f 3.717e+03 |g| 1.520e+03 CG  12 step_size 5.00e-01 \n",
            "iter  8 f 3.375e+03 |g| 1.523e+02 CG   2 step_size 1.00e+00 \n",
            "iter  9 f 3.215e+03 |g| 2.160e+02 CG  14 step_size 1.00e+00 \n",
            "iter 10 f 3.154e+03 |g| 3.525e+01 CG   3 step_size 1.00e+00 \n",
            "init f 1.000e+05 |g| 4.666e+04\n",
            "iter  1 f 1.927e+04 |g| 4.812e+03 CG   2 step_size 1.00e+00 \n",
            "iter  2 f 1.141e+04 |g| 1.481e+03 CG   4 step_size 1.00e+00 \n",
            "iter  3 f 7.159e+03 |g| 1.640e+03 CG  11 step_size 1.00e+00 \n",
            "iter  4 f 6.184e+03 |g| 3.566e+02 CG   3 step_size 1.00e+00 \n",
            "iter  5 f 5.525e+03 |g| 3.596e+02 CG  12 step_size 1.00e+00 \n",
            "iter  6 f 5.401e+03 |g| 8.471e+01 CG   6 step_size 1.00e+00 \n",
            "iter  7 f 5.389e+03 |g| 3.684e+02 CG  16 step_size 5.00e-01 \n",
            "iter  8 f 5.324e+03 |g| 3.119e+01 CG   2 step_size 1.00e+00 \n",
            "iter  9 f 5.307e+03 |g| 1.404e+02 CG  14 step_size 1.00e+00 \n",
            "iter 10 f 5.295e+03 |g| 6.226e+01 CG   2 step_size 1.00e+00 \n",
            "iter 11 f 5.294e+03 |g| 5.317e+01 CG   9 step_size 1.00e+00 \n",
            "iter 12 f 5.292e+03 |g| 9.001e+00 CG   2 step_size 1.00e+00 \n",
            "init f 1.000e+05 |g| 4.282e+04\n",
            "iter  1 f 1.878e+04 |g| 5.598e+03 CG   2 step_size 1.00e+00 \n",
            "iter  2 f 1.100e+04 |g| 4.229e+03 CG   4 step_size 1.00e+00 \n",
            "iter  3 f 8.370e+03 |g| 7.627e+02 CG   2 step_size 1.00e+00 \n",
            "iter  4 f 7.446e+03 |g| 2.134e+03 CG  11 step_size 1.00e+00 \n",
            "iter  5 f 4.879e+03 |g| 3.036e+02 CG   4 step_size 1.00e+00 \n",
            "iter  6 f 4.605e+03 |g| 3.774e+02 CG  11 step_size 5.00e-01 \n",
            "iter  7 f 4.453e+03 |g| 1.282e+02 CG   4 step_size 1.00e+00 \n",
            "iter  8 f 4.401e+03 |g| 2.938e+02 CG  11 step_size 2.50e-01 \n",
            "iter  9 f 4.333e+03 |g| 7.702e+01 CG   4 step_size 1.00e+00 \n",
            "iter 10 f 4.313e+03 |g| 2.327e+02 CG  11 step_size 1.00e+00 \n",
            "iter 11 f 4.205e+03 |g| 4.118e+01 CG   6 step_size 1.00e+00 \n",
            "iter 12 f 4.195e+03 |g| 6.091e+01 CG  16 step_size 5.00e-01 \n",
            "iter 13 f 4.190e+03 |g| 2.193e+01 CG   4 step_size 1.00e+00 \n",
            "init f 1.000e+05 |g| 4.620e+04\n",
            "iter  1 f 2.027e+04 |g| 4.994e+03 CG   2 step_size 1.00e+00 \n",
            "iter  2 f 1.359e+04 |g| 1.647e+03 CG   3 step_size 1.00e+00 \n",
            "iter  3 f 1.161e+04 |g| 4.098e+03 CG   7 step_size 1.00e+00 \n",
            "iter  4 f 9.312e+03 |g| 6.161e+02 CG   2 step_size 1.00e+00 \n",
            "iter  5 f 7.441e+03 |g| 4.627e+02 CG  11 step_size 1.00e+00 \n",
            "iter  6 f 7.220e+03 |g| 6.884e+02 CG  15 step_size 1.00e+00 \n",
            "iter  7 f 6.930e+03 |g| 8.810e+01 CG   2 step_size 1.00e+00 \n",
            "iter  8 f 6.921e+03 |g| 2.683e+02 CG  13 step_size 1.00e+00 \n",
            "iter  9 f 6.883e+03 |g| 4.724e+01 CG   2 step_size 1.00e+00 \n",
            "iter 10 f 6.881e+03 |g| 7.250e+01 CG  19 step_size 1.25e-01 \n",
            "iter 11 f 6.878e+03 |g| 2.328e+01 CG   3 step_size 1.00e+00 \n",
            "init f 1.000e+05 |g| 4.523e+04\n",
            "iter  1 f 1.789e+04 |g| 5.665e+03 CG   2 step_size 1.00e+00 \n",
            "iter  2 f 8.188e+03 |g| 1.508e+03 CG   4 step_size 1.00e+00 \n",
            "iter  3 f 5.508e+03 |g| 6.875e+02 CG   7 step_size 1.00e+00 \n",
            "iter  4 f 4.636e+03 |g| 4.527e+02 CG  10 step_size 1.00e+00 \n",
            "iter  5 f 4.410e+03 |g| 1.270e+02 CG   4 step_size 1.00e+00 \n",
            "iter  6 f 4.237e+03 |g| 1.062e+02 CG  13 step_size 1.00e+00 \n",
            "iter  7 f 4.221e+03 |g| 3.463e+01 CG   2 step_size 1.00e+00 \n",
            "init f 1.000e+05 |g| 4.641e+04\n",
            "iter  1 f 1.862e+04 |g| 5.016e+03 CG   2 step_size 1.00e+00 \n",
            "iter  2 f 9.975e+03 |g| 1.616e+03 CG   4 step_size 1.00e+00 \n",
            "iter  3 f 6.918e+03 |g| 9.145e+02 CG  10 step_size 1.00e+00 \n",
            "iter  4 f 6.119e+03 |g| 8.555e+02 CG  12 step_size 1.00e+00 \n",
            "iter  5 f 5.753e+03 |g| 2.072e+02 CG   2 step_size 1.00e+00 \n",
            "iter  6 f 5.702e+03 |g| 5.536e+02 CG  15 step_size 1.00e+00 \n",
            "iter  7 f 5.491e+03 |g| 1.382e+02 CG   2 step_size 1.00e+00 \n",
            "iter  8 f 5.458e+03 |g| 1.228e+02 CG   6 step_size 1.00e+00 \n",
            "iter  9 f 5.449e+03 |g| 3.876e+01 CG   2 step_size 1.00e+00 \n",
            "init f 1.000e+05 |g| 4.221e+04\n",
            "iter  1 f 1.539e+04 |g| 4.053e+03 CG   3 step_size 1.00e+00 \n",
            "iter  2 f 1.045e+04 |g| 1.249e+03 CG   3 step_size 1.00e+00 \n",
            "iter  3 f 8.213e+03 |g| 6.658e+02 CG   4 step_size 1.00e+00 \n",
            "iter  4 f 6.347e+03 |g| 5.791e+02 CG   8 step_size 1.00e+00 \n",
            "iter  5 f 6.131e+03 |g| 1.129e+03 CG  13 step_size 1.00e+00 \n",
            "iter  6 f 5.525e+03 |g| 1.356e+02 CG   3 step_size 1.00e+00 \n",
            "iter  7 f 5.447e+03 |g| 2.220e+02 CG  12 step_size 5.00e-01 \n",
            "iter  8 f 5.387e+03 |g| 5.234e+01 CG   4 step_size 1.00e+00 \n",
            "init f 1.000e+05 |g| 4.231e+04\n",
            "iter  1 f 1.524e+04 |g| 4.395e+03 CG   3 step_size 1.00e+00 \n",
            "iter  2 f 9.054e+03 |g| 1.760e+03 CG   6 step_size 1.00e+00 \n",
            "iter  3 f 7.470e+03 |g| 6.676e+02 CG   3 step_size 1.00e+00 \n",
            "iter  4 f 7.112e+03 |g| 8.772e+02 CG   4 step_size 5.00e-01 \n",
            "iter  5 f 6.679e+03 |g| 2.028e+02 CG   2 step_size 1.00e+00 \n",
            "iter  6 f 5.793e+03 |g| 1.547e+03 CG   4 step_size 1.00e+00 \n",
            "iter  7 f 5.403e+03 |g| 1.294e+02 CG   2 step_size 1.00e+00 \n",
            "iter  8 f 4.910e+03 |g| 1.166e+03 CG  10 step_size 1.00e+00 \n",
            "iter  9 f 4.683e+03 |g| 1.412e+02 CG   2 step_size 1.00e+00 \n",
            "iter 10 f 4.615e+03 |g| 2.253e+02 CG   4 step_size 1.00e+00 \n",
            "iter 11 f 4.541e+03 |g| 2.191e+02 CG  14 step_size 1.00e+00 \n",
            "iter 12 f 4.504e+03 |g| 4.080e+01 CG   3 step_size 1.00e+00 \n",
            "init f 1.000e+05 |g| 3.971e+04\n",
            "iter  1 f 2.194e+04 |g| 4.429e+03 CG   3 step_size 1.00e+00 \n",
            "iter  2 f 1.537e+04 |g| 1.475e+03 CG   5 step_size 1.00e+00 \n",
            "iter  3 f 1.166e+04 |g| 3.118e+03 CG  14 step_size 1.00e+00 \n",
            "iter  4 f 1.032e+04 |g| 4.533e+02 CG   2 step_size 1.00e+00 \n",
            "iter  5 f 9.314e+03 |g| 7.360e+02 CG  14 step_size 1.00e+00 \n",
            "iter  6 f 9.137e+03 |g| 1.218e+02 CG   3 step_size 1.00e+00 \n",
            "iter  7 f 9.118e+03 |g| 4.362e+02 CG  15 step_size 1.25e-01 \n",
            "iter  8 f 9.085e+03 |g| 8.551e+01 CG   2 step_size 1.00e+00 \n",
            "iter  9 f 9.079e+03 |g| 4.380e+02 CG  15 step_size 1.25e-01 \n",
            "iter 10 f 9.048e+03 |g| 6.680e+01 CG   2 step_size 1.00e+00 \n",
            "iter 11 f 8.914e+03 |g| 6.510e+01 CG  15 step_size 1.00e+00 \n",
            "iter 12 f 8.909e+03 |g| 4.150e+01 CG   2 step_size 1.00e+00 \n",
            "init f 1.000e+05 |g| 4.452e+04\n",
            "iter  1 f 1.394e+04 |g| 4.840e+03 CG   3 step_size 1.00e+00 \n",
            "iter  2 f 7.137e+03 |g| 1.310e+03 CG   5 step_size 1.00e+00 \n",
            "iter  3 f 6.248e+03 |g| 3.521e+03 CG  11 step_size 1.00e+00 \n",
            "iter  4 f 4.471e+03 |g| 4.344e+02 CG   2 step_size 1.00e+00 \n",
            "iter  5 f 4.388e+03 |g| 1.833e+03 CG  14 step_size 5.00e-01 \n",
            "iter  6 f 3.893e+03 |g| 2.201e+02 CG   2 step_size 1.00e+00 \n",
            "iter  7 f 3.605e+03 |g| 2.679e+02 CG  15 step_size 1.00e+00 \n",
            "iter  8 f 3.523e+03 |g| 4.600e+01 CG   3 step_size 1.00e+00 \n",
            "init f 1.000e+05 |g| 5.151e+04\n",
            "iter  1 f 1.933e+04 |g| 5.230e+03 CG   2 step_size 1.00e+00 \n",
            "iter  2 f 1.176e+04 |g| 1.516e+03 CG   4 step_size 1.00e+00 \n",
            "iter  3 f 8.157e+03 |g| 1.312e+03 CG  11 step_size 1.00e+00 \n",
            "iter  4 f 7.484e+03 |g| 3.054e+02 CG   4 step_size 1.00e+00 \n",
            "iter  5 f 7.120e+03 |g| 7.546e+02 CG  14 step_size 1.00e+00 \n",
            "iter  6 f 6.573e+03 |g| 8.679e+01 CG   4 step_size 1.00e+00 \n",
            "iter  7 f 6.504e+03 |g| 1.087e+02 CG  15 step_size 5.00e-01 \n",
            "iter  8 f 6.477e+03 |g| 3.065e+01 CG   4 step_size 1.00e+00 \n",
            "iter  9 f 6.473e+03 |g| 5.921e+01 CG  10 step_size 1.25e-01 \n",
            "iter 10 f 6.436e+03 |g| 2.720e+01 CG  13 step_size 1.00e+00 \n",
            "iter 11 f 6.436e+03 |g| 3.898e+01 CG  11 step_size 1.25e-01 \n",
            "iter 12 f 6.432e+03 |g| 6.117e+00 CG  13 step_size 1.00e+00 \n",
            "init f 1.000e+05 |g| 4.728e+04\n",
            "iter  1 f 1.875e+04 |g| 6.081e+03 CG   2 step_size 1.00e+00 \n",
            "iter  2 f 1.062e+04 |g| 1.807e+03 CG   3 step_size 1.00e+00 \n",
            "iter  3 f 9.873e+03 |g| 3.858e+03 CG   4 step_size 1.00e+00 \n",
            "iter  4 f 7.468e+03 |g| 6.521e+02 CG   2 step_size 1.00e+00 \n",
            "iter  5 f 5.534e+03 |g| 9.556e+02 CG  11 step_size 1.00e+00 \n",
            "iter  6 f 5.124e+03 |g| 1.674e+02 CG   4 step_size 1.00e+00 \n",
            "iter  7 f 5.116e+03 |g| 3.753e+02 CG   6 step_size 1.00e+00 \n",
            "iter  8 f 4.933e+03 |g| 8.360e+01 CG   4 step_size 1.00e+00 \n",
            "iter  9 f 4.854e+03 |g| 1.518e+02 CG  10 step_size 2.50e-01 \n",
            "iter 10 f 4.699e+03 |g| 1.146e+02 CG  13 step_size 1.00e+00 \n",
            "iter 11 f 4.687e+03 |g| 2.512e+01 CG   2 step_size 1.00e+00 \n",
            ".*\n",
            "optimization finished, #iter = 14\n",
            "Objective value = -6457.842517\n",
            "nSV = 25798\n",
            ".*\n",
            "optimization finished, #iter = 14\n",
            "Objective value = -3909.927611\n",
            "nSV = 17717\n",
            ".*\n",
            "optimization finished, #iter = 14\n",
            "Objective value = -4888.501591\n",
            "nSV = 21276\n",
            ".*\n",
            "optimization finished, #iter = 15\n",
            "Objective value = -4998.738486\n",
            "nSV = 22021\n",
            ".*\n",
            "optimization finished, #iter = 13\n",
            "Objective value = -4313.804370\n",
            "nSV = 22325\n",
            ".*\n",
            "optimization finished, #iter = 14\n",
            "Objective value = -9178.109290\n",
            "nSV = 30222\n",
            ".*\n",
            "optimization finished, #iter = 14\n",
            "Objective value = -3271.266962\n",
            "nSV = 17047\n",
            ".*\n",
            "optimization finished, #iter = 12\n",
            "Objective value = -6595.422410\n",
            "nSV = 26674\n",
            ".*\n",
            "optimization finished, #iter = 13\n",
            "Objective value = -4501.341795\n",
            "nSV = 22403\n",
            "init f 2.500e+04 |g| 6.175e+03\n",
            "iter  1 f 6.374e+03 |g| 7.357e+02 CG   2 step_size 1.00e+00 \n",
            "iter  2 f 3.779e+03 |g| 2.676e+02 CG   4 step_size 1.00e+00 \n",
            "iter  3 f 3.143e+03 |g| 2.717e+02 CG   5 step_size 1.00e+00 \n",
            "iter  4 f 2.956e+03 |g| 4.975e+01 CG   2 step_size 1.00e+00 \n",
            "iter  5 f 2.789e+03 |g| 1.721e+02 CG   8 step_size 5.00e-01 \n",
            "iter  6 f 2.712e+03 |g| 2.851e+01 CG   2 step_size 1.00e+00 \n",
            "iter  7 f 2.615e+03 |g| 1.890e+01 CG   8 step_size 1.00e+00 \n",
            "iter  8 f 2.614e+03 |g| 2.701e+01 CG   8 step_size 1.00e+00 \n",
            "iter  9 f 2.609e+03 |g| 7.274e+00 CG   3 step_size 1.00e+00 \n",
            "iter 10 f 2.608e+03 |g| 6.822e+00 CG   4 step_size 1.00e+00 \n",
            "iter 11 f 2.608e+03 |g| 2.741e+00 CG   3 step_size 1.00e+00 \n",
            "init f 2.500e+04 |g| 6.058e+03\n",
            "iter  1 f 5.104e+03 |g| 8.020e+02 CG   2 step_size 1.00e+00 \n",
            "iter  2 f 2.769e+03 |g| 3.661e+02 CG   4 step_size 1.00e+00 \n",
            "iter  3 f 1.944e+03 |g| 8.485e+01 CG   6 step_size 1.00e+00 \n",
            "iter  4 f 1.824e+03 |g| 9.626e+01 CG   8 step_size 5.00e-01 \n",
            "iter  5 f 1.792e+03 |g| 2.384e+01 CG   2 step_size 1.00e+00 \n",
            "iter  6 f 1.759e+03 |g| 7.828e+01 CG   8 step_size 1.00e+00 \n",
            "iter  7 f 1.742e+03 |g| 1.322e+01 CG   2 step_size 1.00e+00 \n",
            "iter  8 f 1.742e+03 |g| 2.155e+01 CG   9 step_size 2.50e-01 \n",
            "iter  9 f 1.741e+03 |g| 6.374e+00 CG   2 step_size 1.00e+00 \n",
            "init f 2.500e+04 |g| 5.920e+03\n",
            "iter  1 f 5.080e+03 |g| 7.610e+02 CG   2 step_size 1.00e+00 \n",
            "iter  2 f 2.685e+03 |g| 2.372e+02 CG   5 step_size 1.00e+00 \n",
            "iter  3 f 2.094e+03 |g| 1.200e+02 CG   8 step_size 1.00e+00 \n",
            "iter  4 f 2.017e+03 |g| 6.863e+01 CG   2 step_size 1.00e+00 \n",
            "iter  5 f 1.992e+03 |g| 9.605e+01 CG   8 step_size 5.00e-01 \n",
            "iter  6 f 1.949e+03 |g| 1.705e+01 CG   3 step_size 1.00e+00 \n",
            "iter  7 f 1.942e+03 |g| 4.158e+01 CG   9 step_size 2.50e-01 \n",
            "iter  8 f 1.935e+03 |g| 1.302e+01 CG   3 step_size 1.00e+00 \n",
            "iter  9 f 1.934e+03 |g| 3.011e+01 CG   7 step_size 2.50e-01 \n",
            "iter 10 f 1.929e+03 |g| 1.192e+01 CG   2 step_size 1.00e+00 \n",
            "iter 11 f 1.928e+03 |g| 3.639e+01 CG   8 step_size 2.50e-01 \n",
            "iter 12 f 1.925e+03 |g| 6.880e+00 CG   2 step_size 1.00e+00 \n",
            "init f 2.500e+04 |g| 5.706e+03\n",
            "iter  1 f 4.267e+03 |g| 6.219e+02 CG   3 step_size 1.00e+00 \n",
            "iter  2 f 2.916e+03 |g| 1.776e+02 CG   4 step_size 1.00e+00 \n",
            "iter  3 f 2.429e+03 |g| 1.291e+02 CG   5 step_size 1.00e+00 \n",
            "iter  4 f 2.232e+03 |g| 7.592e+01 CG   8 step_size 1.00e+00 \n",
            "iter  5 f 2.197e+03 |g| 2.711e+01 CG   2 step_size 1.00e+00 \n",
            "iter  6 f 2.184e+03 |g| 2.122e+01 CG   4 step_size 1.00e+00 \n",
            "iter  7 f 2.181e+03 |g| 8.155e+00 CG   2 step_size 1.00e+00 \n",
            "iter  8 f 2.179e+03 |g| 1.475e+01 CG   6 step_size 2.50e-01 \n",
            "iter  9 f 2.178e+03 |g| 4.828e+00 CG   2 step_size 1.00e+00 \n",
            "init f 2.500e+04 |g| 5.733e+03\n",
            "iter  1 f 4.465e+03 |g| 6.837e+02 CG   3 step_size 1.00e+00 \n",
            "iter  2 f 2.797e+03 |g| 2.159e+02 CG   4 step_size 1.00e+00 \n",
            "iter  3 f 2.138e+03 |g| 2.129e+02 CG  10 step_size 1.00e+00 \n",
            "iter  4 f 2.067e+03 |g| 3.125e+01 CG   2 step_size 1.00e+00 \n",
            "iter  5 f 2.046e+03 |g| 7.863e+01 CG   7 step_size 1.00e+00 \n",
            "iter  6 f 2.035e+03 |g| 1.647e+01 CG   2 step_size 1.00e+00 \n",
            "iter  7 f 2.032e+03 |g| 4.015e+01 CG  11 step_size 1.00e+00 \n",
            "iter  8 f 2.026e+03 |g| 1.371e+01 CG   2 step_size 1.00e+00 \n",
            "iter  9 f 2.025e+03 |g| 2.250e+01 CG   7 step_size 5.00e-01 \n",
            "iter 10 f 2.024e+03 |g| 5.171e+00 CG   2 step_size 1.00e+00 \n",
            "init f 2.500e+04 |g| 5.299e+03\n",
            "iter  1 f 6.188e+03 |g| 6.308e+02 CG   3 step_size 1.00e+00 \n",
            "iter  2 f 4.697e+03 |g| 2.353e+02 CG   4 step_size 1.00e+00 \n",
            "iter  3 f 3.754e+03 |g| 4.526e+02 CG   9 step_size 1.00e+00 \n",
            "iter  4 f 3.511e+03 |g| 8.335e+01 CG   2 step_size 1.00e+00 \n",
            "iter  5 f 3.490e+03 |g| 2.493e+02 CG  10 step_size 5.00e-01 \n",
            "iter  6 f 3.415e+03 |g| 3.680e+01 CG   2 step_size 1.00e+00 \n",
            "iter  7 f 3.374e+03 |g| 1.371e+01 CG  10 step_size 1.00e+00 \n",
            "iter  8 f 3.372e+03 |g| 2.017e+01 CG   9 step_size 1.00e+00 \n",
            "iter  9 f 3.371e+03 |g| 5.717e+00 CG   2 step_size 1.00e+00 \n",
            "init f 2.500e+04 |g| 6.083e+03\n",
            "iter  1 f 4.161e+03 |g| 7.149e+02 CG   3 step_size 1.00e+00 \n",
            "iter  2 f 2.297e+03 |g| 2.497e+02 CG   4 step_size 1.00e+00 \n",
            "iter  3 f 2.196e+03 |g| 4.694e+02 CG   3 step_size 1.00e+00 \n",
            "iter  4 f 1.870e+03 |g| 3.685e+01 CG   2 step_size 1.00e+00 \n",
            "iter  5 f 1.668e+03 |g| 7.224e+01 CG   5 step_size 1.00e+00 \n",
            "iter  6 f 1.641e+03 |g| 4.888e+01 CG   2 step_size 1.00e+00 \n",
            "iter  7 f 1.626e+03 |g| 4.599e+01 CG   7 step_size 5.00e-01 \n",
            "iter  8 f 1.616e+03 |g| 1.078e+01 CG   3 step_size 1.00e+00 \n",
            "iter  9 f 1.614e+03 |g| 2.439e+01 CG   8 step_size 2.50e-01 \n",
            "iter 10 f 1.611e+03 |g| 8.111e+00 CG   2 step_size 1.00e+00 \n",
            "iter 11 f 1.610e+03 |g| 2.501e+01 CG   7 step_size 5.00e-01 \n",
            "iter 12 f 1.607e+03 |g| 3.366e+00 CG   2 step_size 1.00e+00 \n",
            "init f 2.500e+04 |g| 6.866e+03\n",
            "iter  1 f 5.074e+03 |g| 5.901e+02 CG   2 step_size 1.00e+00 \n",
            "iter  2 f 3.160e+03 |g| 2.636e+02 CG   6 step_size 1.00e+00 \n",
            "iter  3 f 2.507e+03 |g| 1.109e+02 CG  11 step_size 1.00e+00 \n",
            "iter  4 f 2.456e+03 |g| 2.615e+01 CG   4 step_size 1.00e+00 \n",
            "iter  5 f 2.450e+03 |g| 6.346e+01 CG  11 step_size 1.00e+00 \n",
            "iter  6 f 2.419e+03 |g| 7.246e+00 CG   3 step_size 1.00e+00 \n",
            "iter  7 f 2.419e+03 |g| 2.945e+01 CG   9 step_size 1.00e+00 \n",
            "iter  8 f 2.416e+03 |g| 3.004e+00 CG   2 step_size 1.00e+00 \n",
            "iter  9 f 2.416e+03 |g| 5.654e+00 CG   9 step_size 2.50e-01 \n",
            "iter 10 f 2.416e+03 |g| 1.548e+00 CG   2 step_size 1.00e+00 \n",
            "init f 2.500e+04 |g| 6.291e+03\n",
            "iter  1 f 5.287e+03 |g| 7.122e+02 CG   2 step_size 1.00e+00 \n",
            "iter  2 f 3.059e+03 |g| 5.191e+02 CG   5 step_size 1.00e+00 \n",
            "iter  3 f 2.523e+03 |g| 1.251e+02 CG   3 step_size 1.00e+00 \n",
            "iter  4 f 2.295e+03 |g| 3.265e+02 CG   7 step_size 5.00e-01 \n",
            "iter  5 f 2.142e+03 |g| 7.001e+01 CG   2 step_size 1.00e+00 \n",
            "iter  6 f 2.029e+03 |g| 1.742e+02 CG   8 step_size 1.00e+00 \n",
            "iter  7 f 1.971e+03 |g| 4.501e+01 CG   2 step_size 1.00e+00 \n",
            "iter  8 f 1.964e+03 |g| 5.076e+01 CG   6 step_size 5.00e-01 \n",
            "iter  9 f 1.953e+03 |g| 8.890e+00 CG   4 step_size 1.00e+00 \n",
            "iter 10 f 1.949e+03 |g| 2.363e+01 CG   8 step_size 1.00e+00 \n",
            "iter 11 f 1.947e+03 |g| 7.383e+00 CG   2 step_size 1.00e+00 \n",
            "iter 12 f 1.947e+03 |g| 1.110e+01 CG   6 step_size 1.00e+00 \n",
            "iter 13 f 1.946e+03 |g| 2.482e+00 CG   2 step_size 1.00e+00 \n",
            ".*\n",
            "optimization finished, #iter = 14\n",
            "Objective value = -3837.914428\n",
            "nSV = 27298\n",
            ".*\n",
            "optimization finished, #iter = 13\n",
            "Objective value = -2339.213442\n",
            "nSV = 19736\n",
            ".*\n",
            "optimization finished, #iter = 14\n",
            "Objective value = -3027.466451\n",
            "nSV = 22158\n",
            ".*\n",
            "optimization finished, #iter = 15\n",
            "Objective value = -3030.287205\n",
            "nSV = 24227\n",
            ".*\n",
            "optimization finished, #iter = 13\n",
            "Objective value = -2609.125960\n",
            "nSV = 24463\n",
            ".*\n",
            "optimization finished, #iter = 14\n",
            "Objective value = -4835.290024\n",
            "nSV = 32062\n",
            ".*\n",
            "optimization finished, #iter = 14\n",
            "Objective value = -2059.008644\n",
            "nSV = 20346\n",
            ".*\n",
            "optimization finished, #iter = 13\n",
            "Objective value = -3510.894767\n",
            "nSV = 28675\n",
            ".*\n",
            "optimization finished, #iter = 13\n",
            "Objective value = -2670.287804\n",
            "nSV = 24042\n",
            "init f 1.000e+05 |g| 4.431e+04\n",
            "iter  1 f 2.073e+04 |g| 4.750e+03 CG   2 step_size 1.00e+00 \n",
            "iter  2 f 1.528e+04 |g| 4.712e+03 CG   4 step_size 1.00e+00 \n",
            "iter  3 f 1.203e+04 |g| 1.110e+03 CG   2 step_size 1.00e+00 \n",
            "iter  4 f 8.924e+03 |g| 1.251e+03 CG  12 step_size 1.00e+00 \n",
            "iter  5 f 8.031e+03 |g| 3.304e+02 CG   3 step_size 1.00e+00 \n",
            "iter  6 f 7.821e+03 |g| 9.538e+02 CG  13 step_size 1.00e+00 \n",
            "iter  7 f 7.245e+03 |g| 2.558e+02 CG   3 step_size 1.00e+00 \n",
            "iter  8 f 7.194e+03 |g| 1.043e+02 CG   6 step_size 1.00e+00 \n",
            "iter  9 f 7.160e+03 |g| 2.476e+02 CG  15 step_size 5.00e-01 \n",
            "iter 10 f 7.136e+03 |g| 1.093e+02 CG   2 step_size 1.00e+00 \n",
            "iter 11 f 7.130e+03 |g| 4.358e+01 CG   3 step_size 1.00e+00 \n",
            "init f 1.000e+05 |g| 4.302e+04\n",
            "iter  1 f 1.792e+04 |g| 5.342e+03 CG   2 step_size 1.00e+00 \n",
            "iter  2 f 8.462e+03 |g| 1.423e+03 CG   4 step_size 1.00e+00 \n",
            "iter  3 f 7.208e+03 |g| 1.479e+03 CG   6 step_size 1.00e+00 \n",
            "iter  4 f 5.459e+03 |g| 2.667e+02 CG   3 step_size 1.00e+00 \n",
            "iter  5 f 5.118e+03 |g| 8.286e+02 CG   8 step_size 1.00e+00 \n",
            "iter  6 f 4.600e+03 |g| 1.558e+02 CG   2 step_size 1.00e+00 \n",
            "iter  7 f 4.414e+03 |g| 1.966e+02 CG  11 step_size 1.00e+00 \n",
            "iter  8 f 4.374e+03 |g| 5.564e+01 CG   3 step_size 1.00e+00 \n",
            "iter  9 f 4.360e+03 |g| 5.574e+01 CG   4 step_size 1.00e+00 \n",
            "iter 10 f 4.355e+03 |g| 1.535e+01 CG   2 step_size 1.00e+00 \n",
            "init f 1.000e+05 |g| 4.564e+04\n",
            "iter  1 f 1.833e+04 |g| 4.924e+03 CG   2 step_size 1.00e+00 \n",
            "iter  2 f 1.021e+04 |g| 1.611e+03 CG   4 step_size 1.00e+00 \n",
            "iter  3 f 7.145e+03 |g| 9.192e+02 CG  10 step_size 1.00e+00 \n",
            "iter  4 f 6.731e+03 |g| 3.702e+02 CG   3 step_size 1.00e+00 \n",
            "iter  5 f 6.206e+03 |g| 7.437e+02 CG  13 step_size 1.00e+00 \n",
            "iter  6 f 5.809e+03 |g| 2.561e+02 CG   2 step_size 1.00e+00 \n",
            "iter  7 f 5.697e+03 |g| 2.346e+02 CG   7 step_size 1.00e+00 \n",
            "iter  8 f 5.667e+03 |g| 5.651e+01 CG   2 step_size 1.00e+00 \n",
            "init f 1.000e+05 |g| 4.035e+04\n",
            "iter  1 f 1.534e+04 |g| 3.910e+03 CG   3 step_size 1.00e+00 \n",
            "iter  2 f 1.049e+04 |g| 1.180e+03 CG   3 step_size 1.00e+00 \n",
            "iter  3 f 8.324e+03 |g| 6.555e+02 CG   4 step_size 1.00e+00 \n",
            "iter  4 f 6.148e+03 |g| 5.516e+02 CG  11 step_size 1.00e+00 \n",
            "iter  5 f 5.812e+03 |g| 2.699e+02 CG   8 step_size 1.00e+00 \n",
            "iter  6 f 5.775e+03 |g| 5.212e+02 CG  13 step_size 1.00e+00 \n",
            "iter  7 f 5.524e+03 |g| 1.201e+02 CG   3 step_size 1.00e+00 \n",
            "iter  8 f 5.511e+03 |g| 1.230e+02 CG   5 step_size 1.00e+00 \n",
            "iter  9 f 5.486e+03 |g| 3.460e+01 CG   2 step_size 1.00e+00 \n",
            "init f 1.000e+05 |g| 4.048e+04\n",
            "iter  1 f 1.526e+04 |g| 4.157e+03 CG   3 step_size 1.00e+00 \n",
            "iter  2 f 9.184e+03 |g| 1.641e+03 CG   6 step_size 1.00e+00 \n",
            "iter  3 f 7.271e+03 |g| 6.063e+02 CG   4 step_size 1.00e+00 \n",
            "iter  4 f 5.820e+03 |g| 3.917e+02 CG   6 step_size 1.00e+00 \n",
            "iter  5 f 4.955e+03 |g| 4.758e+02 CG  11 step_size 1.00e+00 \n",
            "iter  6 f 4.847e+03 |g| 2.288e+02 CG   2 step_size 1.00e+00 \n",
            "iter  7 f 4.765e+03 |g| 3.977e+02 CG  14 step_size 5.00e-01 \n",
            "iter  8 f 4.696e+03 |g| 8.400e+01 CG   2 step_size 1.00e+00 \n",
            "iter  9 f 4.671e+03 |g| 2.273e+02 CG  15 step_size 5.00e-01 \n",
            "iter 10 f 4.646e+03 |g| 3.492e+01 CG   2 step_size 1.00e+00 \n",
            "init f 1.000e+05 |g| 3.840e+04\n",
            "iter  1 f 2.182e+04 |g| 4.291e+03 CG   3 step_size 1.00e+00 \n",
            "iter  2 f 1.554e+04 |g| 1.328e+03 CG   5 step_size 1.00e+00 \n",
            "iter  3 f 1.242e+04 |g| 2.952e+03 CG  12 step_size 1.00e+00 \n",
            "iter  4 f 1.112e+04 |g| 6.081e+02 CG   2 step_size 1.00e+00 \n",
            "iter  5 f 1.041e+04 |g| 1.665e+03 CG  12 step_size 5.00e-01 \n",
            "iter  6 f 9.999e+03 |g| 2.785e+02 CG   2 step_size 1.00e+00 \n",
            "iter  7 f 9.887e+03 |g| 1.131e+03 CG  13 step_size 2.50e-01 \n",
            "iter  8 f 9.697e+03 |g| 1.792e+02 CG   2 step_size 1.00e+00 \n",
            "iter  9 f 9.246e+03 |g| 1.442e+02 CG  15 step_size 1.00e+00 \n",
            "iter 10 f 9.230e+03 |g| 7.118e+01 CG   2 step_size 1.00e+00 \n",
            "iter 11 f 9.226e+03 |g| 2.651e+02 CG  14 step_size 5.00e-01 \n",
            "iter 12 f 9.199e+03 |g| 1.299e+02 CG   2 step_size 1.00e+00 \n",
            "iter 13 f 9.188e+03 |g| 3.173e+01 CG   3 step_size 1.00e+00 \n",
            "init f 1.000e+05 |g| 4.238e+04\n",
            "iter  1 f 1.410e+04 |g| 4.607e+03 CG   3 step_size 1.00e+00 \n",
            "iter  2 f 7.268e+03 |g| 1.265e+03 CG   5 step_size 1.00e+00 \n",
            "iter  3 f 5.874e+03 |g| 2.438e+03 CG   8 step_size 1.00e+00 \n",
            "iter  4 f 4.996e+03 |g| 3.849e+02 CG   2 step_size 1.00e+00 \n",
            "iter  5 f 4.909e+03 |g| 2.015e+03 CG  14 step_size 5.00e-01 \n",
            "iter  6 f 4.221e+03 |g| 2.069e+02 CG   2 step_size 1.00e+00 \n",
            "iter  7 f 4.160e+03 |g| 8.973e+02 CG  12 step_size 2.50e-01 \n",
            "iter  8 f 4.033e+03 |g| 1.294e+02 CG   2 step_size 1.00e+00 \n",
            "iter  9 f 4.007e+03 |g| 5.134e+02 CG  13 step_size 1.25e-01 \n",
            "iter 10 f 3.959e+03 |g| 1.046e+02 CG   2 step_size 1.00e+00 \n",
            "iter 11 f 3.957e+03 |g| 1.994e+02 CG   3 step_size 6.25e-02 \n",
            "iter 12 f 3.787e+03 |g| 2.071e+02 CG  12 step_size 1.00e+00 \n",
            "iter 13 f 3.724e+03 |g| 3.835e+01 CG   3 step_size 1.00e+00 \n",
            "init f 1.000e+05 |g| 4.946e+04\n",
            "iter  1 f 1.953e+04 |g| 5.002e+03 CG   2 step_size 1.00e+00 \n",
            "iter  2 f 1.200e+04 |g| 1.558e+03 CG   4 step_size 1.00e+00 \n",
            "iter  3 f 8.894e+03 |g| 1.608e+03 CG  12 step_size 1.00e+00 \n",
            "iter  4 f 7.753e+03 |g| 3.799e+02 CG   3 step_size 1.00e+00 \n",
            "iter  5 f 6.981e+03 |g| 4.738e+02 CG  14 step_size 1.00e+00 \n",
            "iter  6 f 6.832e+03 |g| 1.227e+02 CG   2 step_size 1.00e+00 \n",
            "iter  7 f 6.763e+03 |g| 2.925e+02 CG  14 step_size 5.00e-01 \n",
            "iter  8 f 6.725e+03 |g| 6.352e+01 CG   2 step_size 1.00e+00 \n",
            "iter  9 f 6.714e+03 |g| 1.703e+02 CG  15 step_size 2.50e-01 \n",
            "iter 10 f 6.701e+03 |g| 4.100e+01 CG   2 step_size 1.00e+00 \n",
            "iter 11 f 6.693e+03 |g| 2.266e+02 CG  15 step_size 1.00e+00 \n",
            "iter 12 f 6.668e+03 |g| 7.566e+01 CG   2 step_size 1.00e+00 \n",
            "iter 13 f 6.668e+03 |g| 8.255e+01 CG  13 step_size 1.25e-01 \n",
            "iter 14 f 6.665e+03 |g| 1.077e+01 CG   4 step_size 1.00e+00 \n",
            "init f 1.000e+05 |g| 4.538e+04\n",
            "iter  1 f 1.874e+04 |g| 5.808e+03 CG   2 step_size 1.00e+00 \n",
            "iter  2 f 1.150e+04 |g| 4.254e+03 CG   4 step_size 1.00e+00 \n",
            "iter  3 f 8.833e+03 |g| 8.351e+02 CG   2 step_size 1.00e+00 \n",
            "iter  4 f 8.602e+03 |g| 2.161e+03 CG  11 step_size 1.00e+00 \n",
            "iter  5 f 5.821e+03 |g| 5.631e+02 CG   3 step_size 1.00e+00 \n",
            "iter  6 f 5.581e+03 |g| 8.649e+02 CG  13 step_size 2.50e-01 \n",
            "iter  7 f 4.981e+03 |g| 2.748e+02 CG  14 step_size 1.00e+00 \n",
            "iter  8 f 4.878e+03 |g| 6.484e+01 CG   7 step_size 1.00e+00 \n",
            "iter  9 f 4.843e+03 |g| 1.426e+02 CG  16 step_size 1.00e+00 \n",
            "iter 10 f 4.824e+03 |g| 2.082e+01 CG   2 step_size 1.00e+00 \n",
            "init f 5.000e+05 |g| 2.216e+05\n",
            "iter  1 f 1.078e+05 |g| 2.593e+04 CG   2 step_size 1.00e+00 \n",
            "iter  2 f 6.726e+04 |g| 8.986e+03 CG   3 step_size 1.00e+00 \n",
            "iter  3 f 5.290e+04 |g| 2.175e+04 CG  10 step_size 1.00e+00 \n",
            "iter  4 f 3.901e+04 |g| 4.595e+03 CG   2 step_size 1.00e+00 \n",
            "iter  5 f 2.950e+04 |g| 3.133e+03 CG  14 step_size 1.00e+00 \n",
            "iter  6 f 2.753e+04 |g| 8.413e+02 CG   6 step_size 1.00e+00 \n",
            "iter  7 f 2.610e+04 |g| 2.295e+03 CG  15 step_size 5.00e-01 \n",
            "iter  8 f 2.554e+04 |g| 5.055e+02 CG   2 step_size 1.00e+00 \n",
            "iter  9 f 2.486e+04 |g| 1.530e+03 CG  18 step_size 5.00e-01 \n",
            "iter 10 f 2.457e+04 |g| 2.269e+02 CG   2 step_size 1.00e+00 \n",
            "iter 11 f 2.443e+04 |g| 8.551e+02 CG  19 step_size 2.50e-01 \n",
            "iter 12 f 2.433e+04 |g| 1.656e+02 CG   2 step_size 1.00e+00 \n",
            "init f 5.000e+05 |g| 2.144e+05\n",
            "iter  1 f 9.018e+04 |g| 2.722e+04 CG   2 step_size 1.00e+00 \n",
            "iter  2 f 4.159e+04 |g| 7.561e+03 CG   4 step_size 1.00e+00 \n",
            "iter  3 f 2.611e+04 |g| 3.577e+03 CG   7 step_size 1.00e+00 \n",
            "iter  4 f 1.932e+04 |g| 1.939e+03 CG  12 step_size 1.00e+00 \n",
            "iter  5 f 1.908e+04 |g| 3.390e+03 CG  15 step_size 5.00e-01 \n",
            "iter  6 f 1.755e+04 |g| 6.464e+02 CG   3 step_size 1.00e+00 \n",
            "iter  7 f 1.753e+04 |g| 1.939e+03 CG  15 step_size 2.50e-01 \n",
            "iter  8 f 1.705e+04 |g| 4.037e+02 CG   2 step_size 1.00e+00 \n",
            "iter  9 f 1.704e+04 |g| 1.107e+03 CG  14 step_size 1.25e-01 \n",
            "iter 10 f 1.688e+04 |g| 3.357e+02 CG   2 step_size 1.00e+00 \n",
            "iter 11 f 1.686e+04 |g| 4.677e+02 CG   3 step_size 1.25e-01 \n",
            "iter 12 f 1.639e+04 |g| 1.442e+02 CG  12 step_size 1.00e+00 \n",
            "init f 5.000e+05 |g| 2.315e+05\n",
            "iter  1 f 9.592e+04 |g| 2.660e+04 CG   2 step_size 1.00e+00 \n",
            "iter  2 f 5.002e+04 |g| 7.876e+03 CG   4 step_size 1.00e+00 \n",
            "iter  3 f 3.325e+04 |g| 4.823e+03 CG   9 step_size 1.00e+00 \n",
            "iter  4 f 2.480e+04 |g| 3.528e+03 CG  16 step_size 1.00e+00 \n",
            "iter  5 f 2.352e+04 |g| 1.278e+03 CG   2 step_size 1.00e+00 \n",
            "iter  6 f 2.167e+04 |g| 2.948e+03 CG  17 step_size 1.00e+00 \n",
            "iter  7 f 2.077e+04 |g| 7.511e+02 CG   2 step_size 1.00e+00 \n",
            "iter  8 f 2.052e+04 |g| 1.886e+02 CG   4 step_size 1.00e+00 \n",
            "init f 5.000e+05 |g| 2.012e+05\n",
            "iter  1 f 8.117e+04 |g| 2.187e+04 CG   3 step_size 1.00e+00 \n",
            "iter  2 f 5.200e+04 |g| 7.082e+03 CG   3 step_size 1.00e+00 \n",
            "iter  3 f 3.526e+04 |g| 4.333e+03 CG   7 step_size 1.00e+00 \n",
            "iter  4 f 2.522e+04 |g| 3.410e+03 CG  13 step_size 1.00e+00 \n",
            "iter  5 f 2.366e+04 |g| 7.669e+02 CG   4 step_size 1.00e+00 \n",
            "iter  6 f 1.958e+04 |g| 1.101e+03 CG  15 step_size 1.00e+00 \n",
            "iter  7 f 1.926e+04 |g| 3.110e+02 CG   4 step_size 1.00e+00 \n",
            "iter  8 f 1.909e+04 |g| 1.933e+03 CG  18 step_size 5.00e-01 \n",
            "iter  9 f 1.858e+04 |g| 2.219e+02 CG   4 step_size 1.00e+00 \n",
            "init f 5.000e+05 |g| 2.018e+05\n",
            "iter  1 f 7.938e+04 |g| 2.275e+04 CG   3 step_size 1.00e+00 \n",
            "iter  2 f 4.809e+04 |g| 7.148e+03 CG   3 step_size 1.00e+00 \n",
            "iter  3 f 3.447e+04 |g| 3.331e+03 CG   4 step_size 1.00e+00 \n",
            "iter  4 f 2.585e+04 |g| 3.249e+03 CG   6 step_size 1.00e+00 \n",
            "iter  5 f 1.883e+04 |g| 2.275e+03 CG  12 step_size 1.00e+00 \n",
            "iter  6 f 1.714e+04 |g| 7.085e+02 CG   8 step_size 1.00e+00 \n",
            "iter  7 f 1.683e+04 |g| 3.800e+03 CG  12 step_size 5.00e-01 \n",
            "iter  8 f 1.560e+04 |g| 5.002e+02 CG   5 step_size 1.00e+00 \n",
            "iter  9 f 1.526e+04 |g| 1.562e+03 CG  15 step_size 5.00e-01 \n",
            "iter 10 f 1.481e+04 |g| 2.091e+02 CG   5 step_size 1.00e+00 \n",
            "init f 5.000e+05 |g| 1.920e+05\n",
            "iter  1 f 1.147e+05 |g| 2.397e+04 CG   3 step_size 1.00e+00 \n",
            "iter  2 f 7.312e+04 |g| 7.478e+03 CG   6 step_size 1.00e+00 \n",
            "iter  3 f 4.542e+04 |g| 4.840e+03 CG  16 step_size 1.00e+00 \n",
            "iter  4 f 4.305e+04 |g| 1.740e+03 CG   3 step_size 1.00e+00 \n",
            "iter  5 f 3.320e+04 |g| 3.387e+03 CG  17 step_size 1.00e+00 \n",
            "iter  6 f 3.197e+04 |g| 1.768e+03 CG   2 step_size 1.00e+00 \n",
            "iter  7 f 3.111e+04 |g| 4.288e+03 CG  21 step_size 1.00e+00 \n",
            "iter  8 f 2.945e+04 |g| 1.743e+03 CG   2 step_size 1.00e+00 \n",
            "iter  9 f 2.878e+04 |g| 1.384e+03 CG   5 step_size 1.00e+00 \n",
            "iter 10 f 2.860e+04 |g| 3.606e+02 CG   2 step_size 1.00e+00 \n",
            "iter 11 f 2.834e+04 |g| 1.051e+03 CG  15 step_size 5.00e-01 \n",
            "iter 12 f 2.825e+04 |g| 3.576e+02 CG   2 step_size 1.00e+00 \n",
            "iter 13 f 2.821e+04 |g| 1.188e+03 CG  15 step_size 5.00e-01 \n",
            "iter 14 f 2.809e+04 |g| 1.436e+02 CG   2 step_size 1.00e+00 \n",
            "init f 5.000e+05 |g| 2.112e+05\n",
            "iter  1 f 8.849e+04 |g| 2.869e+04 CG   2 step_size 1.00e+00 \n",
            "iter  2 f 3.743e+04 |g| 1.309e+04 CG   5 step_size 1.00e+00 \n",
            "iter  3 f 2.933e+04 |g| 4.909e+03 CG   4 step_size 1.00e+00 \n",
            "iter  4 f 1.800e+04 |g| 2.486e+03 CG  10 step_size 1.00e+00 \n",
            "iter  5 f 1.333e+04 |g| 1.046e+03 CG  15 step_size 1.00e+00 \n",
            "iter  6 f 1.235e+04 |g| 1.033e+03 CG  19 step_size 1.00e+00 \n",
            "iter  7 f 1.231e+04 |g| 1.470e+03 CG   5 step_size 1.25e-01 \n",
            "iter  8 f 1.207e+04 |g| 3.120e+02 CG   3 step_size 1.00e+00 \n",
            "iter  9 f 1.188e+04 |g| 1.399e+02 CG   9 step_size 1.00e+00 \n",
            "init f 5.000e+05 |g| 2.473e+05\n",
            "iter  1 f 1.030e+05 |g| 2.831e+04 CG   2 step_size 1.00e+00 \n",
            "iter  2 f 5.342e+04 |g| 8.013e+03 CG   5 step_size 1.00e+00 \n",
            "iter  3 f 3.479e+04 |g| 8.100e+03 CG  14 step_size 1.00e+00 \n",
            "iter  4 f 2.987e+04 |g| 1.903e+03 CG   4 step_size 1.00e+00 \n",
            "iter  5 f 2.404e+04 |g| 3.485e+03 CG  15 step_size 1.00e+00 \n",
            "iter  6 f 2.161e+04 |g| 5.784e+02 CG   4 step_size 1.00e+00 \n",
            "iter  7 f 2.067e+04 |g| 2.176e+03 CG  14 step_size 5.00e-01 \n",
            "iter  8 f 2.024e+04 |g| 5.440e+02 CG   2 step_size 1.00e+00 \n",
            "iter  9 f 2.000e+04 |g| 2.102e+03 CG  15 step_size 5.00e-01 \n",
            "iter 10 f 1.959e+04 |g| 2.970e+02 CG   2 step_size 1.00e+00 \n",
            "iter 11 f 1.949e+04 |g| 1.965e+02 CG   7 step_size 1.00e+00 \n",
            "iter 12 f 1.938e+04 |g| 7.536e+02 CG  16 step_size 5.00e-01 \n",
            "iter 13 f 1.922e+04 |g| 2.605e+02 CG   4 step_size 1.00e+00 \n",
            "iter 14 f 1.919e+04 |g| 4.516e+02 CG  22 step_size 1.25e-01 \n",
            "iter 15 f 1.917e+04 |g| 1.154e+02 CG   2 step_size 1.00e+00 \n",
            "iter 16 f 1.915e+04 |g| 4.272e+02 CG  15 step_size 5.00e-01 \n",
            "iter 17 f 1.910e+04 |g| 9.363e+01 CG   4 step_size 1.00e+00 \n",
            "init f 5.000e+05 |g| 2.267e+05\n",
            "iter  1 f 9.464e+04 |g| 3.092e+04 CG   2 step_size 1.00e+00 \n",
            "iter  2 f 4.287e+04 |g| 7.020e+03 CG   5 step_size 1.00e+00 \n",
            "iter  3 f 3.619e+04 |g| 7.485e+03 CG   7 step_size 1.00e+00 \n",
            "iter  4 f 2.739e+04 |g| 1.986e+03 CG   3 step_size 1.00e+00 \n",
            "iter  5 f 1.992e+04 |g| 2.524e+03 CG  11 step_size 1.00e+00 \n",
            "iter  6 f 1.949e+04 |g| 2.277e+03 CG   7 step_size 2.50e-01 \n",
            "iter  7 f 1.659e+04 |g| 1.150e+03 CG  16 step_size 1.00e+00 \n",
            "iter  8 f 1.641e+04 |g| 4.344e+02 CG   2 step_size 1.00e+00 \n",
            "iter  9 f 1.617e+04 |g| 4.110e+02 CG   8 step_size 1.00e+00 \n",
            "iter 10 f 1.608e+04 |g| 1.396e+02 CG   3 step_size 1.00e+00 \n",
            "..*\n",
            "optimization finished, #iter = 22\n",
            "Objective value = -7199.688527\n",
            "nSV = 23655\n",
            "..*\n",
            "optimization finished, #iter = 21\n",
            "Objective value = -4411.467221\n",
            "nSV = 16650\n",
            "..*\n",
            "optimization finished, #iter = 22\n",
            "Objective value = -5622.505527\n",
            "nSV = 18922\n",
            "..*\n",
            "optimization finished, #iter = 22\n",
            "Objective value = -5540.857859\n",
            "nSV = 21322\n",
            "..*\n",
            "optimization finished, #iter = 22\n",
            "Objective value = -4695.873457\n",
            "nSV = 20478\n",
            "..*\n",
            "optimization finished, #iter = 22\n",
            "Objective value = -9239.522450\n",
            "nSV = 27972\n",
            "..*\n",
            "optimization finished, #iter = 22\n",
            "Objective value = -3725.857891\n",
            "nSV = 17086\n",
            ".*\n",
            "optimization finished, #iter = 19\n",
            "Objective value = -6748.417513\n",
            "nSV = 24031\n",
            "..*\n",
            "optimization finished, #iter = 21\n",
            "Objective value = -4893.359183\n",
            "nSV = 20390\n",
            "Accuracy = 2.9% (29/1000) (classification)\n",
            "Accuracy = 3.4% (34/1000) (classification)\n",
            "Accuracy = 2.5% (25/1000) (classification)\n",
            "Accuracy = 1.4% (14/1000) (classification)\n",
            "Accuracy = 2.2% (22/1000) (classification)\n",
            "Accuracy = 3.5% (35/1000) (classification)\n",
            "Accuracy = 4.6% (46/1000) (classification)\n",
            "Accuracy = 3.1% (31/1000) (classification)\n",
            "Ensemble Model Accuracy: 0.873\n"
          ]
        }
      ],
      "source": [
        "custom_model1 = CustomModel(c_gram_range=(1, 4), C=1.0, w_gram_range=(1,3), s=2,  max_features=50000)\n",
        "custom_model2 = CustomModel(c_gram_range=(1, 4), C=1.0, w_gram_range=(1,4), s=2,  max_features=20000)\n",
        "custom_model3 = CustomModel(c_gram_range=(1, 4), C=1.0, w_gram_range=None, s=1,  max_features=None)\n",
        "custom_model4 = CustomModel(c_gram_range=(1, 6), C=0.25, w_gram_range=None, s=2,  max_features=None)\n",
        "custom_model5 = CustomModel(c_gram_range=(1, 6), C=0.5, w_gram_range=(1,3), s=1,  max_features=50000)\n",
        "custom_model6 = CustomModel(c_gram_range=(1, 6), C=1.0, w_gram_range=(1,4), s=2,  max_features=20000)\n",
        "custom_model7 = CustomModel(c_gram_range=(1, 8), C=5, w_gram_range=(1,3), s=2,  max_features=20000)\n",
        "custom_model8 = CustomModel(c_gram_range=(1, 8), C=1.0, w_gram_range=(1,3), s=1,  max_features=20000)\n",
        "\n",
        "# Create an ensemble model with custom models\n",
        "ensemble_model = VotingClassifier(estimators=[\n",
        "    ('custom_model1', custom_model1),\n",
        "    ('custom_model2', custom_model2),\n",
        "    ('custom_model3', custom_model3),\n",
        "    ('custom_model4', custom_model4),\n",
        "    ('custom_model5', custom_model5),\n",
        "    ('custom_model6', custom_model6),\n",
        "    ('custom_model7', custom_model7),\n",
        "    ('custom_model8', custom_model8)\n",
        "], voting='hard')\n",
        "\n",
        "# Fit the ensemble model on the training data\n",
        "ensemble_model.fit(X_train, y_train)\n",
        "\n",
        "# Make predictions on the test data\n",
        "y_pred = ensemble_model.predict(X_test)\n",
        "\n",
        "# Evaluate the accuracy of the ensemble model\n",
        "accuracy = accuracy_score(y_test, y_pred)\n",
        "print(f'Ensemble Model Accuracy: {accuracy}')"
      ]
    },
    {
      "cell_type": "code",
      "execution_count": 7,
      "metadata": {
        "gather": {
          "logged": 1702359844459
        },
        "jupyter": {
          "outputs_hidden": false,
          "source_hidden": false
        },
        "nteract": {
          "transient": {
            "deleting": false
          }
        }
      },
      "outputs": [
        {
          "name": "stdout",
          "output_type": "stream",
          "text": [
            "Accuracy = 1.5% (15/1000) (classification)\n",
            "Accuracy = 1.8% (18/1000) (classification)\n",
            "Accuracy = 1.5% (15/1000) (classification)\n",
            "Accuracy = 1.5% (15/1000) (classification)\n",
            "Accuracy = 1.2% (12/1000) (classification)\n",
            "Accuracy = 2.1% (21/1000) (classification)\n",
            "Accuracy = 2.5% (25/1000) (classification)\n",
            "Accuracy = 2% (20/1000) (classification)\n"
          ]
        }
      ],
      "source": [
        "y_pred = ensemble_model.predict(df_test['sentence'].values)\n"
      ]
    },
    {
      "cell_type": "code",
      "execution_count": 9,
      "metadata": {
        "gather": {
          "logged": 1702360058472
        },
        "jupyter": {
          "outputs_hidden": false,
          "source_hidden": false
        },
        "nteract": {
          "transient": {
            "deleting": false
          }
        }
      },
      "outputs": [
        {
          "data": {
            "text/plain": [
              "0.874"
            ]
          },
          "execution_count": 9,
          "metadata": {},
          "output_type": "execute_result"
        }
      ],
      "source": [
        "accuracy = accuracy_score(df_test['class'].values, y_pred)\n",
        "accuracy"
      ]
    },
    {
      "cell_type": "code",
      "execution_count": 10,
      "metadata": {
        "gather": {
          "logged": 1702360078488
        },
        "jupyter": {
          "outputs_hidden": false,
          "source_hidden": false
        },
        "nteract": {
          "transient": {
            "deleting": false
          }
        }
      },
      "outputs": [
        {
          "data": {
            "image/png": "[encoded data removed]",
            "text/plain": [
              "<Figure size 800x600 with 1 Axes>"
            ]
          },
          "metadata": {},
          "output_type": "display_data"
        }
      ],
      "source": [
        "import numpy as np\n",
        "import matplotlib.pyplot as plt\n",
        "import seaborn as sns\n",
        "from sklearn.metrics import confusion_matrix\n",
        "\n",
        "# Example data\n",
        "\n",
        "# Define custom class labels\n",
        "class_labels = ['angika', 'bhojpuri', 'hindi', 'konkani', 'maithali', 'marathi', 'nepal_bhasha', 'nepali', 'sanskrit']\n",
        "\n",
        "# Create confusion matrix with custom labels\n",
        "cm = confusion_matrix(df_test['class'].values, y_pred, labels=np.arange(len(class_labels)))\n",
        "\n",
        "# Plot the confusion matrix\n",
        "plt.figure(figsize=(8, 6))\n",
        "sns.heatmap(cm, annot=True, fmt='d', cmap='Blues', cbar=False, xticklabels=class_labels, yticklabels=class_labels)\n",
        "plt.xlabel('Predicted Labels')\n",
        "plt.ylabel('True Labels')\n",
        "plt.title('Confusion Matrix with Custom Labels')\n",
        "plt.show()\n"
      ]
    },
    {
      "cell_type": "code",
      "execution_count": 11,
      "metadata": {
        "gather": {
          "logged": 1702360092979
        },
        "jupyter": {
          "outputs_hidden": false,
          "source_hidden": false
        },
        "nteract": {
          "transient": {
            "deleting": false
          }
        }
      },
      "outputs": [
        {
          "name": "stdout",
          "output_type": "stream",
          "text": [
            "Accuracy: 0.8740\n",
            "Precision: 0.8768, Recall: 0.8740, F1-Score: 0.8662\n",
            "******\n",
            "              precision    recall  f1-score   support\n",
            "\n",
            "           0       0.91      0.24      0.38        42\n",
            "           1       0.89      0.84      0.87        81\n",
            "           2       0.77      0.88      0.82       129\n",
            "           3       0.91      0.95      0.93       129\n",
            "           4       0.86      0.81      0.84       102\n",
            "           5       0.89      0.89      0.89       129\n",
            "           6       0.90      0.91      0.90       130\n",
            "           7       0.90      0.95      0.92       129\n",
            "           8       0.88      0.94      0.91       129\n",
            "\n",
            "    accuracy                           0.87      1000\n",
            "   macro avg       0.88      0.82      0.83      1000\n",
            "weighted avg       0.88      0.87      0.87      1000\n",
            "\n"
          ]
        }
      ],
      "source": [
        "from sklearn.metrics import accuracy_score, precision_score, recall_score, f1_score, classification_report\n",
        "\n",
        "# Accuracy\n",
        "accuracy = accuracy_score(df_test['class'].values, y_pred)\n",
        "print(f'Accuracy: {accuracy:.4f}')\n",
        "\n",
        "# Precision, Recall, F1-Score\n",
        "precision = precision_score(df_test['class'].values, y_pred, average='weighted')\n",
        "recall = recall_score(df_test['class'].values, y_pred, average='weighted')\n",
        "f1 = f1_score(df_test['class'].values, y_pred, average='weighted')\n",
        "print(f'Precision: {precision:.4f}, Recall: {recall:.4f}, F1-Score: {f1:.4f}')\n",
        "\n",
        "# Classification Report\n",
        "print('******')\n",
        "print(classification_report(df_test['class'].values, y_pred))\n"
      ]
    },
    {
      "cell_type": "code",
      "execution_count": 12,
      "metadata": {
        "gather": {
          "logged": 1702360105905
        },
        "jupyter": {
          "outputs_hidden": false,
          "source_hidden": false
        },
        "nteract": {
          "transient": {
            "deleting": false
          }
        }
      },
      "outputs": [
        {
          "name": "stdout",
          "output_type": "stream",
          "text": [
            "         Precision    Recall  F1-Score\n",
            "Class 0   0.909091  0.238095  0.377358\n",
            "Class 1   0.894737  0.839506  0.866242\n",
            "Class 2   0.765101  0.883721  0.820144\n",
            "Class 3   0.911111  0.953488  0.931818\n",
            "Class 4   0.864583  0.813725  0.838384\n",
            "Class 5   0.891473  0.891473  0.891473\n",
            "Class 6   0.900763  0.907692  0.904215\n",
            "Class 7   0.897059  0.945736  0.920755\n",
            "Class 8   0.883212  0.937984  0.909774\n"
          ]
        }
      ],
      "source": [
        "from sklearn.metrics import precision_recall_fscore_support\n",
        "\n",
        "# Class-wise metrics\n",
        "precision, recall, f1, _ = precision_recall_fscore_support(df_test['class'].values, y_pred, average=None)\n",
        "class_labels = [f'Class {i}' for i in range(len(precision))]\n",
        "\n",
        "# Create a DataFrame or plot directly\n",
        "class_metrics_df = pd.DataFrame({'Precision': precision, 'Recall': recall, 'F1-Score': f1}, index=class_labels)\n",
        "print(class_metrics_df)\n"
      ]
    },
    {
      "cell_type": "code",
      "execution_count": null,
      "metadata": {
        "jupyter": {
          "outputs_hidden": false,
          "source_hidden": false
        },
        "nteract": {
          "transient": {
            "deleting": false
          }
        }
      },
      "outputs": [],
      "source": []
    }
  ],
  "metadata": {
    "kernel_info": {
      "name": "python38-azureml"
    },
    "kernelspec": {
      "display_name": "Python 3.8 - AzureML",
      "language": "python",
      "name": "python38-azureml"
    },
    "language_info": {
      "codemirror_mode": {
        "name": "ipython",
        "version": 3
      },
      "file_extension": ".py",
      "mimetype": "text/x-python",
      "name": "python",
      "nbconvert_exporter": "python",
      "pygments_lexer": "ipython3",
      "version": "3.8.5"
    },
    "microsoft": {
      "host": {
        "AzureML": {
          "notebookHasBeenCompleted": true
        }
      },
      "ms_spell_check": {
        "ms_spell_check_language": "en"
      }
    },
    "nteract": {
      "version": "nteract-front-end@1.0.0"
    }
  },
  "nbformat": 4,
  "nbformat_minor": 2
}
