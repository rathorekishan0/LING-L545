{
 "cells": [
  {
   "cell_type": "markdown",
   "metadata": {},
   "source": [
    "### Spacy POS Tagger"
   ]
  },
  {
   "cell_type": "code",
   "execution_count": 3,
   "metadata": {},
   "outputs": [],
   "source": [
    "import spacy\n",
    "from spacy_conll import ConllFormatter\n",
    "\n",
    "# Load the Spanish SpaCy model\n",
    "nlp = spacy.load(\"es_core_news_sm\")\n",
    "\n",
    "# Function for POS tagging using SpaCy\n",
    "def pos_tag_sentence(sentence):\n",
    "    doc = nlp(sentence)\n",
    "    return [(token.text, token.pos_) for token in doc]\n",
    "\n",
    "def process_conll_file(input_file_path, output_file_path):\n",
    "    with open(input_file_path, 'r', encoding='utf-8') as input_file:\n",
    "        lines = input_file.readlines()\n",
    "\n",
    "    output_lines = []\n",
    "    current_sent_id = None\n",
    "    current_text = []\n",
    "\n",
    "    for line in lines:\n",
    "        if line.startswith(\"# sent_id\"):\n",
    "            current_sent_id = line.split('=')[1].strip()\n",
    "        elif line.startswith(\"# text\"):\n",
    "            current_text = line.split('=')[1].strip()\n",
    "        elif line == '\\n':\n",
    "            if current_sent_id and current_text:\n",
    "                output_lines.append(f\"# sent_id = {current_sent_id}\\n# text = {current_text}\")\n",
    "                tagged_sentence = pos_tag_sentence(current_text)\n",
    "                for i, (word, pos) in enumerate(tagged_sentence, start=1):\n",
    "                    output_lines.append(f\"{i}\\t{word}\\t0\\t{pos}\\t0\\t0\\t0\\t0\\t0\\t0\")\n",
    "                output_lines.append('\\n')\n",
    "            current_sent_id = None\n",
    "            current_text = []\n",
    "        else:\n",
    "            continue\n",
    "            # output_lines.append(line.rstrip())\n",
    "\n",
    "    with open(output_file_path, 'w', encoding='utf-8') as output_file:\n",
    "        output_file.write('\\n'.join(output_lines))\n",
    "\n",
    "# Example usage\n",
    "input_file_path = 'es_ancora-ud-test.conllu'\n",
    "output_file_path = 'spacy_output.conllu'\n",
    "\n",
    "process_conll_file(input_file_path, output_file_path)\n"
   ]
  },
  {
   "cell_type": "markdown",
   "metadata": {},
   "source": [
    "Machamp results\n",
    "\n",
    "Metrics    | Precision |    Recall |  F1 Score | AligndAcc\n",
    "-----------+-----------+-----------+-----------+-----------\n",
    "Tokens     |    100.00 |    100.00 |    100.00 |\n",
    "Sentences  |    100.00 |    100.00 |    100.00 |\n",
    "Words      |    100.00 |    100.00 |    100.00 |\n",
    "UPOS       |     98.49 |     98.49 |     98.49 |     98.49\n",
    "XPOS       |    100.00 |    100.00 |    100.00 |    100.00\n",
    "Feats      |    100.00 |    100.00 |    100.00 |    100.00\n",
    "AllTags    |     98.49 |     98.49 |     98.49 |     98.49\n",
    "Lemmas     |    100.00 |    100.00 |    100.00 |    100.00\n",
    "UAS        |    100.00 |    100.00 |    100.00 |    100.00\n",
    "LAS        |    100.00 |    100.00 |    100.00 |    100.00"
   ]
  },
  {
   "cell_type": "markdown",
   "metadata": {},
   "source": [
    "spacy results\n",
    "\n",
    "Metrics    | Precision |    Recall |  F1 Score | AligndAcc\n",
    "-----------+-----------+-----------+-----------+-----------\n",
    "Tokens     |     99.91 |     99.89 |     99.90 |\n",
    "Sentences  |      0.03 |      0.06 |      0.04 |\n",
    "Words      |     97.69 |     95.54 |     96.60 |\n",
    "UPOS       |     95.50 |     93.40 |     94.44 |     97.76\n",
    "XPOS       |      0.00 |      0.00 |      0.00 |      0.00\n",
    "Feats      |      0.00 |      0.00 |      0.00 |      0.00\n",
    "AllTags    |      0.00 |      0.00 |      0.00 |      0.00\n",
    "Lemmas     |      0.00 |      0.00 |      0.00 |      0.00\n",
    "UAS        |      3.26 |      3.18 |      3.22 |      3.33\n",
    "LAS        |      0.00 |      0.00 |      0.00 |      0.00"
   ]
  },
  {
   "cell_type": "markdown",
   "metadata": {},
   "source": [
    "udpipe results\n",
    "\n",
    "Metrics    | Precision |    Recall |  F1 Score | AligndAcc\n",
    "-----------+-----------+-----------+-----------+-----------\n",
    "Tokens     |    100.00 |    100.00 |    100.00 |\n",
    "Sentences  |    100.00 |    100.00 |    100.00 |\n",
    "Words      |    100.00 |    100.00 |    100.00 |\n",
    "UPOS       |     98.27 |     98.27 |     98.27 |     98.27\n",
    "XPOS       |     94.98 |     94.98 |     94.98 |     94.98\n",
    "Feats      |     97.99 |     97.99 |     97.99 |     97.99\n",
    "AllTags    |     94.60 |     94.60 |     94.60 |     94.60\n",
    "Lemmas     |     98.24 |     98.24 |     98.24 |     98.24\n",
    "UAS        |    100.00 |    100.00 |    100.00 |    100.00\n",
    "LAS        |    100.00 |    100.00 |    100.00 |    100.00"
   ]
  },
  {
   "cell_type": "markdown",
   "metadata": {},
   "source": []
  }
 ],
 "metadata": {
  "kernelspec": {
   "display_name": "venv",
   "language": "python",
   "name": "python3"
  },
  "language_info": {
   "codemirror_mode": {
    "name": "ipython",
    "version": 3
   },
   "file_extension": ".py",
   "mimetype": "text/x-python",
   "name": "python",
   "nbconvert_exporter": "python",
   "pygments_lexer": "ipython3",
   "version": "3.9.7"
  }
 },
 "nbformat": 4,
 "nbformat_minor": 2
}
